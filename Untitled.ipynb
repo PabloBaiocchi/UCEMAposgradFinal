{
 "cells": [
  {
   "cell_type": "code",
   "execution_count": 4,
   "id": "peripheral-deployment",
   "metadata": {},
   "outputs": [
    {
     "data": {
      "text/html": [
       "<div>\n",
       "<style scoped>\n",
       "    .dataframe tbody tr th:only-of-type {\n",
       "        vertical-align: middle;\n",
       "    }\n",
       "\n",
       "    .dataframe tbody tr th {\n",
       "        vertical-align: top;\n",
       "    }\n",
       "\n",
       "    .dataframe thead th {\n",
       "        text-align: right;\n",
       "    }\n",
       "</style>\n",
       "<table border=\"1\" class=\"dataframe\">\n",
       "  <thead>\n",
       "    <tr style=\"text-align: right;\">\n",
       "      <th></th>\n",
       "      <th>short</th>\n",
       "      <th>long</th>\n",
       "      <th>alpha</th>\n",
       "      <th>strategy_returns</th>\n",
       "      <th>strategy_std</th>\n",
       "      <th>benchmark_returns</th>\n",
       "      <th>benchmark_std</th>\n",
       "      <th>training_strategy_returns</th>\n",
       "      <th>training_strategy_std</th>\n",
       "      <th>training_benchmark_returns</th>\n",
       "      <th>training_benchmark_std</th>\n",
       "      <th>ticker</th>\n",
       "    </tr>\n",
       "  </thead>\n",
       "  <tbody>\n",
       "    <tr>\n",
       "      <th>0</th>\n",
       "      <td>25</td>\n",
       "      <td>50</td>\n",
       "      <td>0.03</td>\n",
       "      <td>0.000605</td>\n",
       "      <td>0.017614</td>\n",
       "      <td>0.001302</td>\n",
       "      <td>0.017774</td>\n",
       "      <td>0.006533</td>\n",
       "      <td>0.015489</td>\n",
       "      <td>0.000311</td>\n",
       "      <td>0.018389</td>\n",
       "      <td>AAPL</td>\n",
       "    </tr>\n",
       "    <tr>\n",
       "      <th>1</th>\n",
       "      <td>22</td>\n",
       "      <td>50</td>\n",
       "      <td>0.04</td>\n",
       "      <td>0.000913</td>\n",
       "      <td>0.016706</td>\n",
       "      <td>0.000803</td>\n",
       "      <td>0.017736</td>\n",
       "      <td>0.003806</td>\n",
       "      <td>0.017186</td>\n",
       "      <td>0.001477</td>\n",
       "      <td>0.015562</td>\n",
       "      <td>ABBV</td>\n",
       "    </tr>\n",
       "    <tr>\n",
       "      <th>2</th>\n",
       "      <td>23</td>\n",
       "      <td>55</td>\n",
       "      <td>0.02</td>\n",
       "      <td>0.000925</td>\n",
       "      <td>0.016621</td>\n",
       "      <td>0.000734</td>\n",
       "      <td>0.014808</td>\n",
       "      <td>0.002927</td>\n",
       "      <td>0.010636</td>\n",
       "      <td>0.000885</td>\n",
       "      <td>0.011031</td>\n",
       "      <td>ABT</td>\n",
       "    </tr>\n",
       "    <tr>\n",
       "      <th>3</th>\n",
       "      <td>18</td>\n",
       "      <td>50</td>\n",
       "      <td>0.01</td>\n",
       "      <td>0.001032</td>\n",
       "      <td>0.017147</td>\n",
       "      <td>0.000849</td>\n",
       "      <td>0.014732</td>\n",
       "      <td>0.006402</td>\n",
       "      <td>0.014632</td>\n",
       "      <td>0.000902</td>\n",
       "      <td>0.013483</td>\n",
       "      <td>ACN</td>\n",
       "    </tr>\n",
       "    <tr>\n",
       "      <th>4</th>\n",
       "      <td>20</td>\n",
       "      <td>50</td>\n",
       "      <td>0.04</td>\n",
       "      <td>0.001122</td>\n",
       "      <td>0.022506</td>\n",
       "      <td>0.001113</td>\n",
       "      <td>0.019205</td>\n",
       "      <td>0.004783</td>\n",
       "      <td>0.021543</td>\n",
       "      <td>0.001603</td>\n",
       "      <td>0.015621</td>\n",
       "      <td>ADBE</td>\n",
       "    </tr>\n",
       "    <tr>\n",
       "      <th>...</th>\n",
       "      <td>...</td>\n",
       "      <td>...</td>\n",
       "      <td>...</td>\n",
       "      <td>...</td>\n",
       "      <td>...</td>\n",
       "      <td>...</td>\n",
       "      <td>...</td>\n",
       "      <td>...</td>\n",
       "      <td>...</td>\n",
       "      <td>...</td>\n",
       "      <td>...</td>\n",
       "      <td>...</td>\n",
       "    </tr>\n",
       "    <tr>\n",
       "      <th>91</th>\n",
       "      <td>25</td>\n",
       "      <td>88</td>\n",
       "      <td>0.01</td>\n",
       "      <td>0.000952</td>\n",
       "      <td>0.020549</td>\n",
       "      <td>0.000839</td>\n",
       "      <td>0.015812</td>\n",
       "      <td>0.007992</td>\n",
       "      <td>0.011062</td>\n",
       "      <td>0.001458</td>\n",
       "      <td>0.013354</td>\n",
       "      <td>V</td>\n",
       "    </tr>\n",
       "    <tr>\n",
       "      <th>92</th>\n",
       "      <td>25</td>\n",
       "      <td>72</td>\n",
       "      <td>0.01</td>\n",
       "      <td>0.000619</td>\n",
       "      <td>0.011903</td>\n",
       "      <td>0.000304</td>\n",
       "      <td>0.011060</td>\n",
       "      <td>0.001084</td>\n",
       "      <td>0.011014</td>\n",
       "      <td>0.000676</td>\n",
       "      <td>0.010289</td>\n",
       "      <td>VZ</td>\n",
       "    </tr>\n",
       "    <tr>\n",
       "      <th>93</th>\n",
       "      <td>23</td>\n",
       "      <td>55</td>\n",
       "      <td>0.04</td>\n",
       "      <td>0.000161</td>\n",
       "      <td>0.022854</td>\n",
       "      <td>0.000399</td>\n",
       "      <td>0.019192</td>\n",
       "      <td>0.004510</td>\n",
       "      <td>0.008274</td>\n",
       "      <td>0.000956</td>\n",
       "      <td>0.011669</td>\n",
       "      <td>WFC</td>\n",
       "    </tr>\n",
       "    <tr>\n",
       "      <th>94</th>\n",
       "      <td>23</td>\n",
       "      <td>66</td>\n",
       "      <td>0.01</td>\n",
       "      <td>0.000843</td>\n",
       "      <td>0.014841</td>\n",
       "      <td>0.000490</td>\n",
       "      <td>0.012968</td>\n",
       "      <td>0.000631</td>\n",
       "      <td>0.008567</td>\n",
       "      <td>0.000540</td>\n",
       "      <td>0.009054</td>\n",
       "      <td>WMT</td>\n",
       "    </tr>\n",
       "    <tr>\n",
       "      <th>95</th>\n",
       "      <td>23</td>\n",
       "      <td>50</td>\n",
       "      <td>0.03</td>\n",
       "      <td>0.000132</td>\n",
       "      <td>0.016810</td>\n",
       "      <td>0.000222</td>\n",
       "      <td>0.017042</td>\n",
       "      <td>0.002065</td>\n",
       "      <td>0.010764</td>\n",
       "      <td>0.000340</td>\n",
       "      <td>0.009035</td>\n",
       "      <td>XOM</td>\n",
       "    </tr>\n",
       "  </tbody>\n",
       "</table>\n",
       "<p>96 rows × 12 columns</p>\n",
       "</div>"
      ],
      "text/plain": [
       "    short  long  alpha  strategy_returns  strategy_std  benchmark_returns  \\\n",
       "0      25    50   0.03          0.000605      0.017614           0.001302   \n",
       "1      22    50   0.04          0.000913      0.016706           0.000803   \n",
       "2      23    55   0.02          0.000925      0.016621           0.000734   \n",
       "3      18    50   0.01          0.001032      0.017147           0.000849   \n",
       "4      20    50   0.04          0.001122      0.022506           0.001113   \n",
       "..    ...   ...    ...               ...           ...                ...   \n",
       "91     25    88   0.01          0.000952      0.020549           0.000839   \n",
       "92     25    72   0.01          0.000619      0.011903           0.000304   \n",
       "93     23    55   0.04          0.000161      0.022854           0.000399   \n",
       "94     23    66   0.01          0.000843      0.014841           0.000490   \n",
       "95     23    50   0.03          0.000132      0.016810           0.000222   \n",
       "\n",
       "    benchmark_std  training_strategy_returns  training_strategy_std  \\\n",
       "0        0.017774                   0.006533               0.015489   \n",
       "1        0.017736                   0.003806               0.017186   \n",
       "2        0.014808                   0.002927               0.010636   \n",
       "3        0.014732                   0.006402               0.014632   \n",
       "4        0.019205                   0.004783               0.021543   \n",
       "..            ...                        ...                    ...   \n",
       "91       0.015812                   0.007992               0.011062   \n",
       "92       0.011060                   0.001084               0.011014   \n",
       "93       0.019192                   0.004510               0.008274   \n",
       "94       0.012968                   0.000631               0.008567   \n",
       "95       0.017042                   0.002065               0.010764   \n",
       "\n",
       "    training_benchmark_returns  training_benchmark_std ticker  \n",
       "0                     0.000311                0.018389   AAPL  \n",
       "1                     0.001477                0.015562   ABBV  \n",
       "2                     0.000885                0.011031    ABT  \n",
       "3                     0.000902                0.013483    ACN  \n",
       "4                     0.001603                0.015621   ADBE  \n",
       "..                         ...                     ...    ...  \n",
       "91                    0.001458                0.013354      V  \n",
       "92                    0.000676                0.010289     VZ  \n",
       "93                    0.000956                0.011669    WFC  \n",
       "94                    0.000540                0.009054    WMT  \n",
       "95                    0.000340                0.009035    XOM  \n",
       "\n",
       "[96 rows x 12 columns]"
      ]
     },
     "execution_count": 4,
     "metadata": {},
     "output_type": "execute_result"
    }
   ],
   "source": [
    "import pandas as pd\n",
    "import strategy as s\n",
    "\n",
    "data=pd.read_csv('large_cap.csv')\n",
    "data.drop('Date',axis='columns',inplace=True)\n",
    "results=s.run(data,.2,s.getShortLongTupples(),s.getAlphaRange())\n",
    "results"
   ]
  },
  {
   "cell_type": "code",
   "execution_count": 5,
   "id": "significant-prayer",
   "metadata": {},
   "outputs": [],
   "source": [
    "results.to_csv('variableAlphaResults.csv')"
   ]
  },
  {
   "cell_type": "code",
   "execution_count": 8,
   "id": "elder-pillow",
   "metadata": {},
   "outputs": [
    {
     "data": {
      "text/plain": [
       "0.46875"
      ]
     },
     "execution_count": 8,
     "metadata": {},
     "output_type": "execute_result"
    }
   ],
   "source": [
    "len(results[results.strategy_returns>results.benchmark_returns])/len(results)"
   ]
  },
  {
   "cell_type": "code",
   "execution_count": 9,
   "id": "developing-corruption",
   "metadata": {},
   "outputs": [
    {
     "data": {
      "text/plain": [
       "1.0"
      ]
     },
     "execution_count": 9,
     "metadata": {},
     "output_type": "execute_result"
    }
   ],
   "source": [
    "len(results[results.training_strategy_returns>results.training_benchmark_returns])/len(results)"
   ]
  },
  {
   "cell_type": "code",
   "execution_count": 11,
   "id": "bronze-costs",
   "metadata": {},
   "outputs": [
    {
     "data": {
      "text/plain": [
       "<AxesSubplot:xlabel='alpha'>"
      ]
     },
     "execution_count": 11,
     "metadata": {},
     "output_type": "execute_result"
    },
    {
     "data": {
      "image/png": "[encoded data removed]",
      "text/plain": [
       "<Figure size 720x504 with 1 Axes>"
      ]
     },
     "metadata": {
      "needs_background": "light"
     },
     "output_type": "display_data"
    }
   ],
   "source": [
    "results.groupby('alpha').size().to_frame().plot(kind='bar',figsize=(10,7))"
   ]
  },
  {
   "cell_type": "code",
   "execution_count": 13,
   "id": "imported-dispute",
   "metadata": {},
   "outputs": [
    {
     "data": {
      "text/plain": [
       "<matplotlib.collections.PathCollection at 0x130387470>"
      ]
     },
     "execution_count": 13,
     "metadata": {},
     "output_type": "execute_result"
    },
    {
     "data": {
      "image/png": "[encoded data removed]",
      "text/plain": [
       "<Figure size 1080x720 with 1 Axes>"
      ]
     },
     "metadata": {
      "needs_background": "light"
     },
     "output_type": "display_data"
    }
   ],
   "source": [
    "import matplotlib.pyplot as plt\n",
    "\n",
    "plt.figure(figsize=(15,10))\n",
    "plt.scatter(results.alpha,results.strategy_returns-results.benchmark_returns)"
   ]
  },
  {
   "cell_type": "code",
   "execution_count": 14,
   "id": "veterinary-radio",
   "metadata": {},
   "outputs": [
    {
     "data": {
      "text/plain": [
       "<matplotlib.collections.PathCollection at 0x1303f8828>"
      ]
     },
     "execution_count": 14,
     "metadata": {},
     "output_type": "execute_result"
    },
    {
     "data": {
      "image/png": "[encoded data removed]",
      "text/plain": [
       "<Figure size 1080x720 with 1 Axes>"
      ]
     },
     "metadata": {
      "needs_background": "light"
     },
     "output_type": "display_data"
    }
   ],
   "source": [
    "winners=results[results.strategy_returns>results.benchmark_returns]\n",
    "losers=results[results.strategy_returns<results.benchmark_returns]\n",
    "\n",
    "plt.figure(figsize=(15,10))\n",
    "plt.scatter(winners.benchmark_std,winners.benchmark_returns,color='green')\n",
    "plt.scatter(losers.benchmark_std,losers.benchmark_returns,color='red')"
   ]
  },
  {
   "cell_type": "code",
   "execution_count": 31,
   "id": "incorrect-south",
   "metadata": {},
   "outputs": [],
   "source": [
    "import scipy \n",
    "\n",
    "def confidenceInterval(sample,alpha):\n",
    "    u=sample.mean()\n",
    "    e=scipy.stats.norm.ppf(1-alpha/2)*sample.std()/len(sample)**.5\n",
    "    return (u-e,u+e)\n",
    "\n",
    "def ztest(sample1,sample2,alpha):\n",
    "    int1=confidenceInterval(sample1,alpha)\n",
    "    int2=confidenceInterval(sample2,alpha)\n",
    "    print(int1)\n",
    "    print(int2)\n",
    "    print(int1[0]>int2[1] or int1[1]<int2[0])"
   ]
  },
  {
   "cell_type": "code",
   "execution_count": 32,
   "id": "electric-oasis",
   "metadata": {},
   "outputs": [
    {
     "name": "stdout",
     "output_type": "stream",
     "text": [
      "(57.33162317874306, 63.29059904347916)\n",
      "(62.23191021802482, 71.16808978197518)\n",
      "False\n"
     ]
    }
   ],
   "source": [
    "ztest(winners.long,losers.long,.05)"
   ]
  },
  {
   "cell_type": "code",
   "execution_count": 33,
   "id": "adjusted-saint",
   "metadata": {},
   "outputs": [
    {
     "name": "stdout",
     "output_type": "stream",
     "text": [
      "(21.678448144904564, 23.032662966206544)\n",
      "(20.285451586654123, 22.194548413345874)\n",
      "False\n"
     ]
    }
   ],
   "source": [
    "ztest(winners.short,losers.short,.05)"
   ]
  },
  {
   "cell_type": "code",
   "execution_count": 34,
   "id": "robust-malaysia",
   "metadata": {},
   "outputs": [
    {
     "name": "stdout",
     "output_type": "stream",
     "text": [
      "(0.016707341446685356, 0.024625991886647984)\n",
      "(0.01961809963748535, 0.02718190036251466)\n",
      "False\n"
     ]
    }
   ],
   "source": [
    "ztest(winners.alpha,losers.alpha,.05)"
   ]
  },
  {
   "cell_type": "code",
   "execution_count": 103,
   "id": "municipal-timber",
   "metadata": {},
   "outputs": [
    {
     "data": {
      "text/plain": [
       "<AxesSubplot:>"
      ]
     },
     "execution_count": 103,
     "metadata": {},
     "output_type": "execute_result"
    },
    {
     "data": {
      "image/png": "[encoded data removed]",
      "text/plain": [
       "<Figure size 432x288 with 1 Axes>"
      ]
     },
     "metadata": {
      "needs_background": "light"
     },
     "output_type": "display_data"
    }
   ],
   "source": [
    "losers.alpha.hist()"
   ]
  },
  {
   "cell_type": "code",
   "execution_count": 53,
   "id": "abstract-constant",
   "metadata": {},
   "outputs": [
    {
     "data": {
      "text/plain": [
       "22.355555555555554"
      ]
     },
     "execution_count": 53,
     "metadata": {},
     "output_type": "execute_result"
    }
   ],
   "source": [
    "winners.short.mean()"
   ]
  },
  {
   "cell_type": "code",
   "execution_count": 59,
   "id": "steady-washer",
   "metadata": {},
   "outputs": [
    {
     "data": {
      "text/html": [
       "<div>\n",
       "<style scoped>\n",
       "    .dataframe tbody tr th:only-of-type {\n",
       "        vertical-align: middle;\n",
       "    }\n",
       "\n",
       "    .dataframe tbody tr th {\n",
       "        vertical-align: top;\n",
       "    }\n",
       "\n",
       "    .dataframe thead th {\n",
       "        text-align: right;\n",
       "    }\n",
       "</style>\n",
       "<table border=\"1\" class=\"dataframe\">\n",
       "  <thead>\n",
       "    <tr style=\"text-align: right;\">\n",
       "      <th></th>\n",
       "      <th>short</th>\n",
       "      <th>long</th>\n",
       "      <th>alpha</th>\n",
       "      <th>strategy_returns</th>\n",
       "      <th>strategy_std</th>\n",
       "      <th>benchmark_returns</th>\n",
       "      <th>benchmark_std</th>\n",
       "      <th>ticker</th>\n",
       "    </tr>\n",
       "  </thead>\n",
       "  <tbody>\n",
       "    <tr>\n",
       "      <th>0</th>\n",
       "      <td>22</td>\n",
       "      <td>60</td>\n",
       "      <td>0.020667</td>\n",
       "      <td>0.001339</td>\n",
       "      <td>0.022152</td>\n",
       "      <td>0.001100</td>\n",
       "      <td>0.017897</td>\n",
       "      <td>AAPL</td>\n",
       "    </tr>\n",
       "    <tr>\n",
       "      <th>1</th>\n",
       "      <td>22</td>\n",
       "      <td>60</td>\n",
       "      <td>0.020667</td>\n",
       "      <td>0.000836</td>\n",
       "      <td>0.018828</td>\n",
       "      <td>0.000931</td>\n",
       "      <td>0.017322</td>\n",
       "      <td>ABBV</td>\n",
       "    </tr>\n",
       "    <tr>\n",
       "      <th>2</th>\n",
       "      <td>22</td>\n",
       "      <td>60</td>\n",
       "      <td>0.020667</td>\n",
       "      <td>0.000871</td>\n",
       "      <td>0.015523</td>\n",
       "      <td>0.000762</td>\n",
       "      <td>0.014130</td>\n",
       "      <td>ABT</td>\n",
       "    </tr>\n",
       "    <tr>\n",
       "      <th>3</th>\n",
       "      <td>22</td>\n",
       "      <td>60</td>\n",
       "      <td>0.020667</td>\n",
       "      <td>0.001037</td>\n",
       "      <td>0.016023</td>\n",
       "      <td>0.000861</td>\n",
       "      <td>0.014486</td>\n",
       "      <td>ACN</td>\n",
       "    </tr>\n",
       "    <tr>\n",
       "      <th>4</th>\n",
       "      <td>22</td>\n",
       "      <td>60</td>\n",
       "      <td>0.020667</td>\n",
       "      <td>0.000886</td>\n",
       "      <td>0.022663</td>\n",
       "      <td>0.001209</td>\n",
       "      <td>0.018540</td>\n",
       "      <td>ADBE</td>\n",
       "    </tr>\n",
       "    <tr>\n",
       "      <th>...</th>\n",
       "      <td>...</td>\n",
       "      <td>...</td>\n",
       "      <td>...</td>\n",
       "      <td>...</td>\n",
       "      <td>...</td>\n",
       "      <td>...</td>\n",
       "      <td>...</td>\n",
       "      <td>...</td>\n",
       "    </tr>\n",
       "    <tr>\n",
       "      <th>91</th>\n",
       "      <td>22</td>\n",
       "      <td>60</td>\n",
       "      <td>0.020667</td>\n",
       "      <td>0.001142</td>\n",
       "      <td>0.016941</td>\n",
       "      <td>0.000962</td>\n",
       "      <td>0.015350</td>\n",
       "      <td>V</td>\n",
       "    </tr>\n",
       "    <tr>\n",
       "      <th>92</th>\n",
       "      <td>22</td>\n",
       "      <td>60</td>\n",
       "      <td>0.020667</td>\n",
       "      <td>0.000312</td>\n",
       "      <td>0.011029</td>\n",
       "      <td>0.000371</td>\n",
       "      <td>0.010914</td>\n",
       "      <td>VZ</td>\n",
       "    </tr>\n",
       "    <tr>\n",
       "      <th>93</th>\n",
       "      <td>22</td>\n",
       "      <td>60</td>\n",
       "      <td>0.020667</td>\n",
       "      <td>-0.000100</td>\n",
       "      <td>0.022598</td>\n",
       "      <td>0.000509</td>\n",
       "      <td>0.017940</td>\n",
       "      <td>WFC</td>\n",
       "    </tr>\n",
       "    <tr>\n",
       "      <th>94</th>\n",
       "      <td>22</td>\n",
       "      <td>60</td>\n",
       "      <td>0.020667</td>\n",
       "      <td>0.000583</td>\n",
       "      <td>0.011712</td>\n",
       "      <td>0.000497</td>\n",
       "      <td>0.012284</td>\n",
       "      <td>WMT</td>\n",
       "    </tr>\n",
       "    <tr>\n",
       "      <th>95</th>\n",
       "      <td>22</td>\n",
       "      <td>60</td>\n",
       "      <td>0.020667</td>\n",
       "      <td>-0.000007</td>\n",
       "      <td>0.015924</td>\n",
       "      <td>0.000244</td>\n",
       "      <td>0.015768</td>\n",
       "      <td>XOM</td>\n",
       "    </tr>\n",
       "  </tbody>\n",
       "</table>\n",
       "<p>96 rows × 8 columns</p>\n",
       "</div>"
      ],
      "text/plain": [
       "    short  long     alpha  strategy_returns  strategy_std  benchmark_returns  \\\n",
       "0      22    60  0.020667          0.001339      0.022152           0.001100   \n",
       "1      22    60  0.020667          0.000836      0.018828           0.000931   \n",
       "2      22    60  0.020667          0.000871      0.015523           0.000762   \n",
       "3      22    60  0.020667          0.001037      0.016023           0.000861   \n",
       "4      22    60  0.020667          0.000886      0.022663           0.001209   \n",
       "..    ...   ...       ...               ...           ...                ...   \n",
       "91     22    60  0.020667          0.001142      0.016941           0.000962   \n",
       "92     22    60  0.020667          0.000312      0.011029           0.000371   \n",
       "93     22    60  0.020667         -0.000100      0.022598           0.000509   \n",
       "94     22    60  0.020667          0.000583      0.011712           0.000497   \n",
       "95     22    60  0.020667         -0.000007      0.015924           0.000244   \n",
       "\n",
       "    benchmark_std ticker  \n",
       "0        0.017897   AAPL  \n",
       "1        0.017322   ABBV  \n",
       "2        0.014130    ABT  \n",
       "3        0.014486    ACN  \n",
       "4        0.018540   ADBE  \n",
       "..            ...    ...  \n",
       "91       0.015350      V  \n",
       "92       0.010914     VZ  \n",
       "93       0.017940    WFC  \n",
       "94       0.012284    WMT  \n",
       "95       0.015768    XOM  \n",
       "\n",
       "[96 rows x 8 columns]"
      ]
     },
     "execution_count": 59,
     "metadata": {},
     "output_type": "execute_result"
    }
   ],
   "source": [
    "def run(data,short,long,alpha):\n",
    "    resultRows=[]\n",
    "    for ticker in data.columns:\n",
    "        bt=s.backtest(data[ticker],short,long,alpha)\n",
    "        stats=s.statistics(bt,short,long,alpha)\n",
    "        stats['ticker']=ticker\n",
    "        resultRows.append(stats)\n",
    "    return pd.DataFrame(resultRows)\n",
    "\n",
    "x=run(data,int(winners.short.mean()),int(winners.long.mean()),winners.alpha.mean())\n",
    "x"
   ]
  },
  {
   "cell_type": "code",
   "execution_count": 60,
   "id": "excess-madness",
   "metadata": {},
   "outputs": [],
   "source": [
    "xWinners=x[x.strategy_returns>x.benchmark_returns]\n",
    "xLosers=x[x.strategy_returns<x.benchmark_returns]"
   ]
  },
  {
   "cell_type": "code",
   "execution_count": 62,
   "id": "laden-worthy",
   "metadata": {},
   "outputs": [
    {
     "data": {
      "text/plain": [
       "0.46875"
      ]
     },
     "execution_count": 62,
     "metadata": {},
     "output_type": "execute_result"
    }
   ],
   "source": [
    "len(xWinners)/len(x)"
   ]
  },
  {
   "cell_type": "code",
   "execution_count": 63,
   "id": "lyric-favor",
   "metadata": {},
   "outputs": [],
   "source": [
    "y=run(data,30,70,.01)"
   ]
  },
  {
   "cell_type": "code",
   "execution_count": 64,
   "id": "exempt-bankruptcy",
   "metadata": {},
   "outputs": [],
   "source": [
    "yWinners=y[y.strategy_returns>y.benchmark_returns]\n",
    "yLosers=x[y.strategy_returns<y.benchmark_returns]"
   ]
  },
  {
   "cell_type": "code",
   "execution_count": 65,
   "id": "excited-slovakia",
   "metadata": {},
   "outputs": [
    {
     "data": {
      "text/plain": [
       "0.4895833333333333"
      ]
     },
     "execution_count": 65,
     "metadata": {},
     "output_type": "execute_result"
    }
   ],
   "source": [
    "len(yWinners)/len(y)"
   ]
  },
  {
   "cell_type": "code",
   "execution_count": 67,
   "id": "continuous-parade",
   "metadata": {},
   "outputs": [],
   "source": [
    "z=data['AAPL'].to_frame()\n",
    "z.columns=['price']\n",
    "z['returns']=z.price.pct_change()\n",
    "z['std_20']=z.returns.rolling(20).std()\n",
    "\n",
    "indeces=z.sort_values('std_20',ascending=False).iloc[:100].index"
   ]
  },
  {
   "cell_type": "code",
   "execution_count": 70,
   "id": "virgin-invitation",
   "metadata": {},
   "outputs": [
    {
     "data": {
      "text/plain": [
       "<matplotlib.collections.PathCollection at 0x132cd9278>"
      ]
     },
     "execution_count": 70,
     "metadata": {},
     "output_type": "execute_result"
    },
    {
     "data": {
      "image/png": "[encoded data removed]",
      "text/plain": [
       "<Figure size 1080x720 with 1 Axes>"
      ]
     },
     "metadata": {
      "needs_background": "light"
     },
     "output_type": "display_data"
    }
   ],
   "source": [
    "plt.figure(figsize=(15,10))\n",
    "\n",
    "indeces=z.sort_values('std_20',ascending=False).iloc[:200].index\n",
    "\n",
    "plt.plot(z.index,z.price,color='grey')\n",
    "plt.scatter(indeces,z.price[indeces],color='green')"
   ]
  },
  {
   "cell_type": "code",
   "execution_count": 75,
   "id": "encouraging-advertising",
   "metadata": {},
   "outputs": [],
   "source": [
    "import numpy as np\n",
    "\n",
    "def varDf(pSeries,short,long,alpha):\n",
    "    df=pSeries.to_frame()\n",
    "    df.columns=['price']\n",
    "    df['returns']=df.price.pct_change()\n",
    "    df[f's_{long}']=df.returns.rolling(long).std()\n",
    "    df[f's_{short}']=df.returns.rolling(short).std()\n",
    "    chi_l=scipy.stats.chi2.ppf(alpha/2,long-1)\n",
    "    chi_u=scipy.stats.chi2.ppf(1-alpha/2,long-1)\n",
    "    df['sig_floor']=((long-1)*df[f's_{long}']**2/chi_u)**.5\n",
    "    df['sig_ceiling']=((long-1)*df[f's_{long}']**2/chi_l)**.5\n",
    "    df['high']=np.where(df[f's_{short}']>df['sig_ceiling'],True,False)\n",
    "    df['low']=np.where(df[f's_{short}']<df['sig_floor'],True,False)\n",
    "    return df"
   ]
  },
  {
   "cell_type": "code",
   "execution_count": 85,
   "id": "resistant-exception",
   "metadata": {},
   "outputs": [
    {
     "data": {
      "text/html": [
       "<div>\n",
       "<style scoped>\n",
       "    .dataframe tbody tr th:only-of-type {\n",
       "        vertical-align: middle;\n",
       "    }\n",
       "\n",
       "    .dataframe tbody tr th {\n",
       "        vertical-align: top;\n",
       "    }\n",
       "\n",
       "    .dataframe thead th {\n",
       "        text-align: right;\n",
       "    }\n",
       "</style>\n",
       "<table border=\"1\" class=\"dataframe\">\n",
       "  <thead>\n",
       "    <tr style=\"text-align: right;\">\n",
       "      <th></th>\n",
       "      <th>price</th>\n",
       "      <th>returns</th>\n",
       "      <th>s_60</th>\n",
       "      <th>s_20</th>\n",
       "      <th>sig_floor</th>\n",
       "      <th>sig_ceiling</th>\n",
       "      <th>high</th>\n",
       "      <th>low</th>\n",
       "    </tr>\n",
       "  </thead>\n",
       "  <tbody>\n",
       "    <tr>\n",
       "      <th>0</th>\n",
       "      <td>15.744738</td>\n",
       "      <td>NaN</td>\n",
       "      <td>NaN</td>\n",
       "      <td>NaN</td>\n",
       "      <td>NaN</td>\n",
       "      <td>NaN</td>\n",
       "      <td>False</td>\n",
       "      <td>False</td>\n",
       "    </tr>\n",
       "    <tr>\n",
       "      <th>1</th>\n",
       "      <td>15.689387</td>\n",
       "      <td>-0.003515</td>\n",
       "      <td>NaN</td>\n",
       "      <td>NaN</td>\n",
       "      <td>NaN</td>\n",
       "      <td>NaN</td>\n",
       "      <td>False</td>\n",
       "      <td>False</td>\n",
       "    </tr>\n",
       "    <tr>\n",
       "      <th>2</th>\n",
       "      <td>15.791832</td>\n",
       "      <td>0.006530</td>\n",
       "      <td>NaN</td>\n",
       "      <td>NaN</td>\n",
       "      <td>NaN</td>\n",
       "      <td>NaN</td>\n",
       "      <td>False</td>\n",
       "      <td>False</td>\n",
       "    </tr>\n",
       "    <tr>\n",
       "      <th>3</th>\n",
       "      <td>15.975932</td>\n",
       "      <td>0.011658</td>\n",
       "      <td>NaN</td>\n",
       "      <td>NaN</td>\n",
       "      <td>NaN</td>\n",
       "      <td>NaN</td>\n",
       "      <td>False</td>\n",
       "      <td>False</td>\n",
       "    </tr>\n",
       "    <tr>\n",
       "      <th>4</th>\n",
       "      <td>16.078384</td>\n",
       "      <td>0.006413</td>\n",
       "      <td>NaN</td>\n",
       "      <td>NaN</td>\n",
       "      <td>NaN</td>\n",
       "      <td>NaN</td>\n",
       "      <td>False</td>\n",
       "      <td>False</td>\n",
       "    </tr>\n",
       "    <tr>\n",
       "      <th>...</th>\n",
       "      <td>...</td>\n",
       "      <td>...</td>\n",
       "      <td>...</td>\n",
       "      <td>...</td>\n",
       "      <td>...</td>\n",
       "      <td>...</td>\n",
       "      <td>...</td>\n",
       "      <td>...</td>\n",
       "    </tr>\n",
       "    <tr>\n",
       "      <th>2513</th>\n",
       "      <td>168.880005</td>\n",
       "      <td>0.001423</td>\n",
       "      <td>0.019211</td>\n",
       "      <td>0.021142</td>\n",
       "      <td>0.014655</td>\n",
       "      <td>0.027104</td>\n",
       "      <td>False</td>\n",
       "      <td>False</td>\n",
       "    </tr>\n",
       "    <tr>\n",
       "      <th>2514</th>\n",
       "      <td>172.789993</td>\n",
       "      <td>0.023152</td>\n",
       "      <td>0.019096</td>\n",
       "      <td>0.021354</td>\n",
       "      <td>0.014567</td>\n",
       "      <td>0.026942</td>\n",
       "      <td>False</td>\n",
       "      <td>False</td>\n",
       "    </tr>\n",
       "    <tr>\n",
       "      <th>2515</th>\n",
       "      <td>172.550003</td>\n",
       "      <td>-0.001389</td>\n",
       "      <td>0.018994</td>\n",
       "      <td>0.020723</td>\n",
       "      <td>0.014489</td>\n",
       "      <td>0.026799</td>\n",
       "      <td>False</td>\n",
       "      <td>False</td>\n",
       "    </tr>\n",
       "    <tr>\n",
       "      <th>2516</th>\n",
       "      <td>168.880005</td>\n",
       "      <td>-0.021269</td>\n",
       "      <td>0.019217</td>\n",
       "      <td>0.021207</td>\n",
       "      <td>0.014659</td>\n",
       "      <td>0.027113</td>\n",
       "      <td>False</td>\n",
       "      <td>False</td>\n",
       "    </tr>\n",
       "    <tr>\n",
       "      <th>2517</th>\n",
       "      <td>167.300003</td>\n",
       "      <td>-0.009356</td>\n",
       "      <td>0.019262</td>\n",
       "      <td>0.021099</td>\n",
       "      <td>0.014694</td>\n",
       "      <td>0.027176</td>\n",
       "      <td>False</td>\n",
       "      <td>False</td>\n",
       "    </tr>\n",
       "  </tbody>\n",
       "</table>\n",
       "<p>2518 rows × 8 columns</p>\n",
       "</div>"
      ],
      "text/plain": [
       "           price   returns      s_60      s_20  sig_floor  sig_ceiling   high  \\\n",
       "0      15.744738       NaN       NaN       NaN        NaN          NaN  False   \n",
       "1      15.689387 -0.003515       NaN       NaN        NaN          NaN  False   \n",
       "2      15.791832  0.006530       NaN       NaN        NaN          NaN  False   \n",
       "3      15.975932  0.011658       NaN       NaN        NaN          NaN  False   \n",
       "4      16.078384  0.006413       NaN       NaN        NaN          NaN  False   \n",
       "...          ...       ...       ...       ...        ...          ...    ...   \n",
       "2513  168.880005  0.001423  0.019211  0.021142   0.014655     0.027104  False   \n",
       "2514  172.789993  0.023152  0.019096  0.021354   0.014567     0.026942  False   \n",
       "2515  172.550003 -0.001389  0.018994  0.020723   0.014489     0.026799  False   \n",
       "2516  168.880005 -0.021269  0.019217  0.021207   0.014659     0.027113  False   \n",
       "2517  167.300003 -0.009356  0.019262  0.021099   0.014694     0.027176  False   \n",
       "\n",
       "        low  \n",
       "0     False  \n",
       "1     False  \n",
       "2     False  \n",
       "3     False  \n",
       "4     False  \n",
       "...     ...  \n",
       "2513  False  \n",
       "2514  False  \n",
       "2515  False  \n",
       "2516  False  \n",
       "2517  False  \n",
       "\n",
       "[2518 rows x 8 columns]"
      ]
     },
     "execution_count": 85,
     "metadata": {},
     "output_type": "execute_result"
    }
   ],
   "source": [
    "bt=varDf(data['AAPL'],20,60,.001)\n",
    "bt"
   ]
  },
  {
   "cell_type": "code",
   "execution_count": 86,
   "id": "double-window",
   "metadata": {},
   "outputs": [
    {
     "data": {
      "text/plain": [
       "95"
      ]
     },
     "execution_count": 86,
     "metadata": {},
     "output_type": "execute_result"
    }
   ],
   "source": [
    "len(bt[bt.high])"
   ]
  },
  {
   "cell_type": "code",
   "execution_count": 87,
   "id": "deadly-commissioner",
   "metadata": {},
   "outputs": [
    {
     "data": {
      "text/plain": [
       "589"
      ]
     },
     "execution_count": 87,
     "metadata": {},
     "output_type": "execute_result"
    }
   ],
   "source": [
    "len(bt[bt.low])"
   ]
  },
  {
   "cell_type": "code",
   "execution_count": 88,
   "id": "czech-seeking",
   "metadata": {},
   "outputs": [
    {
     "data": {
      "text/plain": [
       "<matplotlib.collections.PathCollection at 0x134c16b00>"
      ]
     },
     "execution_count": 88,
     "metadata": {},
     "output_type": "execute_result"
    },
    {
     "data": {
      "image/png": "[encoded data removed]",
      "text/plain": [
       "<Figure size 1080x720 with 1 Axes>"
      ]
     },
     "metadata": {
      "needs_background": "light"
     },
     "output_type": "display_data"
    }
   ],
   "source": [
    "iHigh=bt[bt.high].index\n",
    "iLow=bt[bt.low].index\n",
    "\n",
    "plt.figure(figsize=(15,10))\n",
    "plt.plot(bt.index,bt.price,color='grey')\n",
    "plt.scatter(iHigh,bt.price[iHigh],color='red')\n",
    "# plt.scatter(iLow,bt.price[iLow],color='green')"
   ]
  },
  {
   "cell_type": "code",
   "execution_count": 96,
   "id": "strong-plane",
   "metadata": {},
   "outputs": [],
   "source": [
    "bt=s.backtest(data['XOM'],20,60,.001)\n",
    "i=bt[bt.signal!='-'].index"
   ]
  },
  {
   "cell_type": "code",
   "execution_count": 97,
   "id": "advised-century",
   "metadata": {},
   "outputs": [
    {
     "data": {
      "text/plain": [
       "<matplotlib.collections.PathCollection at 0x135bc9a90>"
      ]
     },
     "execution_count": 97,
     "metadata": {},
     "output_type": "execute_result"
    },
    {
     "data": {
      "image/png": "[encoded data removed]",
      "text/plain": [
       "<Figure size 1080x720 with 1 Axes>"
      ]
     },
     "metadata": {
      "needs_background": "light"
     },
     "output_type": "display_data"
    }
   ],
   "source": [
    "plt.figure(figsize=(15,10))\n",
    "plt.plot(bt.index,bt.price,color='grey')\n",
    "plt.scatter(i,bt.price[i],color='red')"
   ]
  },
  {
   "cell_type": "code",
   "execution_count": 100,
   "id": "serious-chorus",
   "metadata": {},
   "outputs": [
    {
     "data": {
      "image/png": "[encoded data removed]",
      "text/plain": [
       "<Figure size 1080x720 with 1 Axes>"
      ]
     },
     "metadata": {
      "needs_background": "light"
     },
     "output_type": "display_data"
    }
   ],
   "source": [
    "bt=s.backtest(data['XOM'],20,60,.001)\n",
    "s.plotPosition(bt)"
   ]
  },
  {
   "cell_type": "code",
   "execution_count": 101,
   "id": "eligible-object",
   "metadata": {},
   "outputs": [
    {
     "data": {
      "text/plain": [
       "{'short': 20,\n",
       " 'long': 60,\n",
       " 'alpha': 0.001,\n",
       " 'strategy_returns': 0.0002349954734272593,\n",
       " 'strategy_std': 0.01725544494401472,\n",
       " 'benchmark_returns': 0.0002444820121509799,\n",
       " 'benchmark_std': 0.015768107440740715}"
      ]
     },
     "execution_count": 101,
     "metadata": {},
     "output_type": "execute_result"
    }
   ],
   "source": [
    "s.statistics(bt,20,60,.001)"
   ]
  },
  {
   "cell_type": "code",
   "execution_count": 107,
   "id": "assumed-finland",
   "metadata": {},
   "outputs": [
    {
     "data": {
      "text/html": [
       "<div>\n",
       "<style scoped>\n",
       "    .dataframe tbody tr th:only-of-type {\n",
       "        vertical-align: middle;\n",
       "    }\n",
       "\n",
       "    .dataframe tbody tr th {\n",
       "        vertical-align: top;\n",
       "    }\n",
       "\n",
       "    .dataframe thead th {\n",
       "        text-align: right;\n",
       "    }\n",
       "</style>\n",
       "<table border=\"1\" class=\"dataframe\">\n",
       "  <thead>\n",
       "    <tr style=\"text-align: right;\">\n",
       "      <th></th>\n",
       "      <th>short</th>\n",
       "      <th>long</th>\n",
       "      <th>alpha</th>\n",
       "      <th>strategy_returns</th>\n",
       "      <th>strategy_std</th>\n",
       "      <th>benchmark_returns</th>\n",
       "      <th>benchmark_std</th>\n",
       "      <th>training_strategy_returns</th>\n",
       "      <th>training_strategy_std</th>\n",
       "      <th>training_benchmark_returns</th>\n",
       "      <th>training_benchmark_std</th>\n",
       "      <th>ticker</th>\n",
       "    </tr>\n",
       "  </thead>\n",
       "  <tbody>\n",
       "    <tr>\n",
       "      <th>0</th>\n",
       "      <td>19</td>\n",
       "      <td>50</td>\n",
       "      <td>0.001</td>\n",
       "      <td>0.001560</td>\n",
       "      <td>0.018483</td>\n",
       "      <td>0.001302</td>\n",
       "      <td>0.017774</td>\n",
       "      <td>0.002078</td>\n",
       "      <td>0.015960</td>\n",
       "      <td>0.000311</td>\n",
       "      <td>0.018389</td>\n",
       "      <td>AAPL</td>\n",
       "    </tr>\n",
       "    <tr>\n",
       "      <th>1</th>\n",
       "      <td>16</td>\n",
       "      <td>50</td>\n",
       "      <td>0.003</td>\n",
       "      <td>0.000938</td>\n",
       "      <td>0.016437</td>\n",
       "      <td>0.000803</td>\n",
       "      <td>0.017736</td>\n",
       "      <td>0.012407</td>\n",
       "      <td>0.021618</td>\n",
       "      <td>0.001477</td>\n",
       "      <td>0.015562</td>\n",
       "      <td>ABBV</td>\n",
       "    </tr>\n",
       "    <tr>\n",
       "      <th>2</th>\n",
       "      <td>16</td>\n",
       "      <td>55</td>\n",
       "      <td>0.007</td>\n",
       "      <td>0.000562</td>\n",
       "      <td>0.015989</td>\n",
       "      <td>0.000734</td>\n",
       "      <td>0.014808</td>\n",
       "      <td>0.002467</td>\n",
       "      <td>0.010732</td>\n",
       "      <td>0.000885</td>\n",
       "      <td>0.011031</td>\n",
       "      <td>ABT</td>\n",
       "    </tr>\n",
       "    <tr>\n",
       "      <th>3</th>\n",
       "      <td>18</td>\n",
       "      <td>50</td>\n",
       "      <td>0.009</td>\n",
       "      <td>0.001162</td>\n",
       "      <td>0.016449</td>\n",
       "      <td>0.000849</td>\n",
       "      <td>0.014732</td>\n",
       "      <td>0.006402</td>\n",
       "      <td>0.014632</td>\n",
       "      <td>0.000902</td>\n",
       "      <td>0.013483</td>\n",
       "      <td>ACN</td>\n",
       "    </tr>\n",
       "    <tr>\n",
       "      <th>4</th>\n",
       "      <td>20</td>\n",
       "      <td>72</td>\n",
       "      <td>0.009</td>\n",
       "      <td>0.001121</td>\n",
       "      <td>0.023930</td>\n",
       "      <td>0.001113</td>\n",
       "      <td>0.019205</td>\n",
       "      <td>0.004531</td>\n",
       "      <td>0.021024</td>\n",
       "      <td>0.001603</td>\n",
       "      <td>0.015621</td>\n",
       "      <td>ADBE</td>\n",
       "    </tr>\n",
       "    <tr>\n",
       "      <th>...</th>\n",
       "      <td>...</td>\n",
       "      <td>...</td>\n",
       "      <td>...</td>\n",
       "      <td>...</td>\n",
       "      <td>...</td>\n",
       "      <td>...</td>\n",
       "      <td>...</td>\n",
       "      <td>...</td>\n",
       "      <td>...</td>\n",
       "      <td>...</td>\n",
       "      <td>...</td>\n",
       "      <td>...</td>\n",
       "    </tr>\n",
       "    <tr>\n",
       "      <th>91</th>\n",
       "      <td>25</td>\n",
       "      <td>88</td>\n",
       "      <td>0.009</td>\n",
       "      <td>0.000962</td>\n",
       "      <td>0.020535</td>\n",
       "      <td>0.000839</td>\n",
       "      <td>0.015812</td>\n",
       "      <td>0.007992</td>\n",
       "      <td>0.011062</td>\n",
       "      <td>0.001458</td>\n",
       "      <td>0.013354</td>\n",
       "      <td>V</td>\n",
       "    </tr>\n",
       "    <tr>\n",
       "      <th>92</th>\n",
       "      <td>25</td>\n",
       "      <td>77</td>\n",
       "      <td>0.005</td>\n",
       "      <td>0.000664</td>\n",
       "      <td>0.011882</td>\n",
       "      <td>0.000304</td>\n",
       "      <td>0.011060</td>\n",
       "      <td>0.001106</td>\n",
       "      <td>0.011001</td>\n",
       "      <td>0.000676</td>\n",
       "      <td>0.010289</td>\n",
       "      <td>VZ</td>\n",
       "    </tr>\n",
       "    <tr>\n",
       "      <th>93</th>\n",
       "      <td>15</td>\n",
       "      <td>61</td>\n",
       "      <td>0.003</td>\n",
       "      <td>0.000230</td>\n",
       "      <td>0.022821</td>\n",
       "      <td>0.000399</td>\n",
       "      <td>0.019192</td>\n",
       "      <td>0.004901</td>\n",
       "      <td>0.009020</td>\n",
       "      <td>0.000956</td>\n",
       "      <td>0.011669</td>\n",
       "      <td>WFC</td>\n",
       "    </tr>\n",
       "    <tr>\n",
       "      <th>94</th>\n",
       "      <td>22</td>\n",
       "      <td>55</td>\n",
       "      <td>0.007</td>\n",
       "      <td>0.000694</td>\n",
       "      <td>0.014713</td>\n",
       "      <td>0.000490</td>\n",
       "      <td>0.012968</td>\n",
       "      <td>0.000883</td>\n",
       "      <td>0.008638</td>\n",
       "      <td>0.000540</td>\n",
       "      <td>0.009054</td>\n",
       "      <td>WMT</td>\n",
       "    </tr>\n",
       "    <tr>\n",
       "      <th>95</th>\n",
       "      <td>25</td>\n",
       "      <td>55</td>\n",
       "      <td>0.005</td>\n",
       "      <td>NaN</td>\n",
       "      <td>NaN</td>\n",
       "      <td>0.000222</td>\n",
       "      <td>0.017042</td>\n",
       "      <td>0.005440</td>\n",
       "      <td>0.010877</td>\n",
       "      <td>0.000340</td>\n",
       "      <td>0.009035</td>\n",
       "      <td>XOM</td>\n",
       "    </tr>\n",
       "  </tbody>\n",
       "</table>\n",
       "<p>96 rows × 12 columns</p>\n",
       "</div>"
      ],
      "text/plain": [
       "    short  long  alpha  strategy_returns  strategy_std  benchmark_returns  \\\n",
       "0      19    50  0.001          0.001560      0.018483           0.001302   \n",
       "1      16    50  0.003          0.000938      0.016437           0.000803   \n",
       "2      16    55  0.007          0.000562      0.015989           0.000734   \n",
       "3      18    50  0.009          0.001162      0.016449           0.000849   \n",
       "4      20    72  0.009          0.001121      0.023930           0.001113   \n",
       "..    ...   ...    ...               ...           ...                ...   \n",
       "91     25    88  0.009          0.000962      0.020535           0.000839   \n",
       "92     25    77  0.005          0.000664      0.011882           0.000304   \n",
       "93     15    61  0.003          0.000230      0.022821           0.000399   \n",
       "94     22    55  0.007          0.000694      0.014713           0.000490   \n",
       "95     25    55  0.005               NaN           NaN           0.000222   \n",
       "\n",
       "    benchmark_std  training_strategy_returns  training_strategy_std  \\\n",
       "0        0.017774                   0.002078               0.015960   \n",
       "1        0.017736                   0.012407               0.021618   \n",
       "2        0.014808                   0.002467               0.010732   \n",
       "3        0.014732                   0.006402               0.014632   \n",
       "4        0.019205                   0.004531               0.021024   \n",
       "..            ...                        ...                    ...   \n",
       "91       0.015812                   0.007992               0.011062   \n",
       "92       0.011060                   0.001106               0.011001   \n",
       "93       0.019192                   0.004901               0.009020   \n",
       "94       0.012968                   0.000883               0.008638   \n",
       "95       0.017042                   0.005440               0.010877   \n",
       "\n",
       "    training_benchmark_returns  training_benchmark_std ticker  \n",
       "0                     0.000311                0.018389   AAPL  \n",
       "1                     0.001477                0.015562   ABBV  \n",
       "2                     0.000885                0.011031    ABT  \n",
       "3                     0.000902                0.013483    ACN  \n",
       "4                     0.001603                0.015621   ADBE  \n",
       "..                         ...                     ...    ...  \n",
       "91                    0.001458                0.013354      V  \n",
       "92                    0.000676                0.010289     VZ  \n",
       "93                    0.000956                0.011669    WFC  \n",
       "94                    0.000540                0.009054    WMT  \n",
       "95                    0.000340                0.009035    XOM  \n",
       "\n",
       "[96 rows x 12 columns]"
      ]
     },
     "execution_count": 107,
     "metadata": {},
     "output_type": "execute_result"
    }
   ],
   "source": [
    "data=pd.read_csv('large_cap.csv')\n",
    "data.drop('Date',axis='columns',inplace=True)\n",
    "results=s.run(data,.2,s.getShortLongTupples(),np.arange(.001,.01,.002))\n",
    "results"
   ]
  },
  {
   "cell_type": "code",
   "execution_count": 108,
   "id": "global-catalog",
   "metadata": {},
   "outputs": [],
   "source": [
    "results.to_csv('miniAlphaResults.csv')"
   ]
  },
  {
   "cell_type": "code",
   "execution_count": 109,
   "id": "younger-intelligence",
   "metadata": {},
   "outputs": [
    {
     "data": {
      "text/plain": [
       "93"
      ]
     },
     "execution_count": 109,
     "metadata": {},
     "output_type": "execute_result"
    }
   ],
   "source": [
    "r=results.dropna()\n",
    "len(r)"
   ]
  },
  {
   "cell_type": "code",
   "execution_count": 111,
   "id": "political-tennis",
   "metadata": {},
   "outputs": [
    {
     "data": {
      "text/plain": [
       "<AxesSubplot:>"
      ]
     },
     "execution_count": 111,
     "metadata": {},
     "output_type": "execute_result"
    },
    {
     "data": {
      "image/png": "[encoded data removed]",
      "text/plain": [
       "<Figure size 432x288 with 1 Axes>"
      ]
     },
     "metadata": {
      "needs_background": "light"
     },
     "output_type": "display_data"
    }
   ],
   "source": [
    "r.alpha.hist()"
   ]
  },
  {
   "cell_type": "code",
   "execution_count": 112,
   "id": "determined-owner",
   "metadata": {},
   "outputs": [],
   "source": [
    "rw=r[r.strategy_returns>r.benchmark_returns].copy()\n",
    "rl=r[r.strategy_returns<r.benchmark_returns].copy()"
   ]
  },
  {
   "cell_type": "code",
   "execution_count": 113,
   "id": "forty-third",
   "metadata": {},
   "outputs": [
    {
     "data": {
      "text/plain": [
       "<AxesSubplot:>"
      ]
     },
     "execution_count": 113,
     "metadata": {},
     "output_type": "execute_result"
    },
    {
     "data": {
      "image/png": "[encoded data removed]",
      "text/plain": [
       "<Figure size 432x288 with 1 Axes>"
      ]
     },
     "metadata": {
      "needs_background": "light"
     },
     "output_type": "display_data"
    }
   ],
   "source": [
    "rw.alpha.hist()"
   ]
  },
  {
   "cell_type": "code",
   "execution_count": 114,
   "id": "noble-shelf",
   "metadata": {},
   "outputs": [
    {
     "data": {
      "text/plain": [
       "<AxesSubplot:>"
      ]
     },
     "execution_count": 114,
     "metadata": {},
     "output_type": "execute_result"
    },
    {
     "data": {
      "image/png": "[encoded data removed]",
      "text/plain": [
       "<Figure size 432x288 with 1 Axes>"
      ]
     },
     "metadata": {
      "needs_background": "light"
     },
     "output_type": "display_data"
    }
   ],
   "source": [
    "rl.alpha.hist()"
   ]
  },
  {
   "cell_type": "code",
   "execution_count": 116,
   "id": "focal-colon",
   "metadata": {},
   "outputs": [
    {
     "data": {
      "text/plain": [
       "0.5053763440860215"
      ]
     },
     "execution_count": 116,
     "metadata": {},
     "output_type": "execute_result"
    }
   ],
   "source": [
    "len(rw)/len(r)"
   ]
  },
  {
   "cell_type": "code",
   "execution_count": null,
   "id": "supported-heather",
   "metadata": {},
   "outputs": [],
   "source": []
  }
 ],
 "metadata": {
  "kernelspec": {
   "display_name": "Python 3",
   "language": "python",
   "name": "python3"
  },
  "language_info": {
   "codemirror_mode": {
    "name": "ipython",
    "version": 3
   },
   "file_extension": ".py",
   "mimetype": "text/x-python",
   "name": "python",
   "nbconvert_exporter": "python",
   "pygments_lexer": "ipython3",
   "version": "3.6.4"
  }
 },
 "nbformat": 4,
 "nbformat_minor": 5
}
