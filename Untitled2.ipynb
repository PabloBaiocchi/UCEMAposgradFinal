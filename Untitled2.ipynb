{
 "cells": [
  {
   "cell_type": "code",
   "execution_count": 1,
   "id": "solar-bosnia",
   "metadata": {},
   "outputs": [],
   "source": [
    "import pandas as pd\n",
    "import strategy as s\n",
    "import numpy as np\n",
    "\n",
    "data=pd.read_csv('large_cap.csv')\n",
    "data.drop('Date',axis='columns',inplace=True)"
   ]
  },
  {
   "cell_type": "code",
   "execution_count": 2,
   "id": "simple-driver",
   "metadata": {},
   "outputs": [
    {
     "ename": "KeyboardInterrupt",
     "evalue": "",
     "output_type": "error",
     "traceback": [
      "\u001b[0;31m---------------------------------------------------------------------------\u001b[0m",
      "\u001b[0;31mKeyboardInterrupt\u001b[0m                         Traceback (most recent call last)",
      "\u001b[0;32m<timed exec>\u001b[0m in \u001b[0;36m<module>\u001b[0;34m\u001b[0m\n",
      "\u001b[0;32m~/Desktop/simpleSmaStrategy/strategy.py\u001b[0m in \u001b[0;36mrun\u001b[0;34m(data, trainingSize, shortRange, longRange, upperPRange, lowerPRange)\u001b[0m\n\u001b[1;32m    127\u001b[0m     \u001b[0mrows\u001b[0m\u001b[0;34m=\u001b[0m\u001b[0;34m[\u001b[0m\u001b[0;34m]\u001b[0m\u001b[0;34m\u001b[0m\u001b[0m\n\u001b[1;32m    128\u001b[0m     \u001b[0;32mfor\u001b[0m \u001b[0mticker\u001b[0m \u001b[0;32min\u001b[0m \u001b[0mdata\u001b[0m\u001b[0;34m.\u001b[0m\u001b[0mcolumns\u001b[0m\u001b[0;34m:\u001b[0m\u001b[0;34m\u001b[0m\u001b[0m\n\u001b[0;32m--> 129\u001b[0;31m         \u001b[0mresults\u001b[0m\u001b[0;34m=\u001b[0m\u001b[0mstrategy\u001b[0m\u001b[0;34m(\u001b[0m\u001b[0mdata\u001b[0m\u001b[0;34m[\u001b[0m\u001b[0mticker\u001b[0m\u001b[0;34m]\u001b[0m\u001b[0;34m,\u001b[0m\u001b[0mtrainingSize\u001b[0m\u001b[0;34m,\u001b[0m\u001b[0mshortRange\u001b[0m\u001b[0;34m,\u001b[0m\u001b[0mlongRange\u001b[0m\u001b[0;34m,\u001b[0m\u001b[0mupperPRange\u001b[0m\u001b[0;34m,\u001b[0m\u001b[0mlowerPRange\u001b[0m\u001b[0;34m)\u001b[0m\u001b[0;34m\u001b[0m\u001b[0m\n\u001b[0m\u001b[1;32m    130\u001b[0m         \u001b[0mresults\u001b[0m\u001b[0;34m[\u001b[0m\u001b[0;34m'ticker'\u001b[0m\u001b[0;34m]\u001b[0m\u001b[0;34m=\u001b[0m\u001b[0mticker\u001b[0m\u001b[0;34m\u001b[0m\u001b[0m\n\u001b[1;32m    131\u001b[0m         \u001b[0mrows\u001b[0m\u001b[0;34m.\u001b[0m\u001b[0mappend\u001b[0m\u001b[0;34m(\u001b[0m\u001b[0mresults\u001b[0m\u001b[0;34m)\u001b[0m\u001b[0;34m\u001b[0m\u001b[0m\n",
      "\u001b[0;32m~/Desktop/simpleSmaStrategy/strategy.py\u001b[0m in \u001b[0;36mstrategy\u001b[0;34m(pSeries, trainingSize, shortRange, longRange, upperPRange, lowerPRange)\u001b[0m\n\u001b[1;32m    106\u001b[0m     \u001b[0mtestSet\u001b[0m\u001b[0;34m.\u001b[0m\u001b[0mreset_index\u001b[0m\u001b[0;34m(\u001b[0m\u001b[0mdrop\u001b[0m\u001b[0;34m=\u001b[0m\u001b[0;32mTrue\u001b[0m\u001b[0;34m,\u001b[0m\u001b[0minplace\u001b[0m\u001b[0;34m=\u001b[0m\u001b[0;32mTrue\u001b[0m\u001b[0;34m)\u001b[0m \u001b[0;31m#need to 0 index so index matches position index later\u001b[0m\u001b[0;34m\u001b[0m\u001b[0m\n\u001b[1;32m    107\u001b[0m \u001b[0;34m\u001b[0m\u001b[0m\n\u001b[0;32m--> 108\u001b[0;31m     \u001b[0mtrainingOutcome\u001b[0m\u001b[0;34m=\u001b[0m\u001b[0mtrain\u001b[0m\u001b[0;34m(\u001b[0m\u001b[0mtrainingSet\u001b[0m\u001b[0;34m,\u001b[0m\u001b[0mbuySellSignals\u001b[0m\u001b[0;34m)\u001b[0m\u001b[0;34m\u001b[0m\u001b[0m\n\u001b[0m\u001b[1;32m    109\u001b[0m     \u001b[0mposition\u001b[0m\u001b[0;34m=\u001b[0m\u001b[0mgetPosition\u001b[0m\u001b[0;34m(\u001b[0m\u001b[0mtrainingOutcome\u001b[0m\u001b[0;34m[\u001b[0m\u001b[0;34m'signal'\u001b[0m\u001b[0;34m]\u001b[0m\u001b[0;34m[\u001b[0m\u001b[0mtrainingCutoff\u001b[0m\u001b[0;34m:\u001b[0m\u001b[0;34m]\u001b[0m\u001b[0;34m)\u001b[0m\u001b[0;34m\u001b[0m\u001b[0m\n\u001b[1;32m    110\u001b[0m \u001b[0;34m\u001b[0m\u001b[0m\n",
      "\u001b[0;32m~/Desktop/simpleSmaStrategy/strategy.py\u001b[0m in \u001b[0;36mtrain\u001b[0;34m(trainingSet, buySellSignals)\u001b[0m\n\u001b[1;32m     72\u001b[0m         \u001b[0mposition\u001b[0m\u001b[0;34m=\u001b[0m\u001b[0mgetPosition\u001b[0m\u001b[0;34m(\u001b[0m\u001b[0msig\u001b[0m\u001b[0;34m[\u001b[0m\u001b[0;34m'signal'\u001b[0m\u001b[0;34m]\u001b[0m\u001b[0;34m[\u001b[0m\u001b[0;34m:\u001b[0m\u001b[0mindex\u001b[0m\u001b[0;34m]\u001b[0m\u001b[0;34m)\u001b[0m\u001b[0;34m\u001b[0m\u001b[0m\n\u001b[1;32m     73\u001b[0m         rows.append({\n\u001b[0;32m---> 74\u001b[0;31m             \u001b[0;34m'returns'\u001b[0m\u001b[0;34m:\u001b[0m\u001b[0mtrainingSet\u001b[0m\u001b[0;34m[\u001b[0m\u001b[0mposition\u001b[0m\u001b[0;34m==\u001b[0m\u001b[0;34m'bought'\u001b[0m\u001b[0;34m]\u001b[0m\u001b[0;34m.\u001b[0m\u001b[0mmean\u001b[0m\u001b[0;34m(\u001b[0m\u001b[0;34m)\u001b[0m\u001b[0;34m,\u001b[0m\u001b[0;34m\u001b[0m\u001b[0m\n\u001b[0m\u001b[1;32m     75\u001b[0m             \u001b[0;34m'upper_short'\u001b[0m\u001b[0;34m:\u001b[0m\u001b[0msig\u001b[0m\u001b[0;34m[\u001b[0m\u001b[0;34m'upper_short'\u001b[0m\u001b[0;34m]\u001b[0m\u001b[0;34m,\u001b[0m\u001b[0;34m\u001b[0m\u001b[0m\n\u001b[1;32m     76\u001b[0m             \u001b[0;34m'upper_long'\u001b[0m\u001b[0;34m:\u001b[0m\u001b[0msig\u001b[0m\u001b[0;34m[\u001b[0m\u001b[0;34m'upper_long'\u001b[0m\u001b[0;34m]\u001b[0m\u001b[0;34m,\u001b[0m\u001b[0;34m\u001b[0m\u001b[0m\n",
      "\u001b[0;32m/Library/Frameworks/Python.framework/Versions/3.6/lib/python3.6/site-packages/pandas/core/ops/common.py\u001b[0m in \u001b[0;36mnew_method\u001b[0;34m(self, other)\u001b[0m\n\u001b[1;32m     63\u001b[0m         \u001b[0mother\u001b[0m \u001b[0;34m=\u001b[0m \u001b[0mitem_from_zerodim\u001b[0m\u001b[0;34m(\u001b[0m\u001b[0mother\u001b[0m\u001b[0;34m)\u001b[0m\u001b[0;34m\u001b[0m\u001b[0m\n\u001b[1;32m     64\u001b[0m \u001b[0;34m\u001b[0m\u001b[0m\n\u001b[0;32m---> 65\u001b[0;31m         \u001b[0;32mreturn\u001b[0m \u001b[0mmethod\u001b[0m\u001b[0;34m(\u001b[0m\u001b[0mself\u001b[0m\u001b[0;34m,\u001b[0m \u001b[0mother\u001b[0m\u001b[0;34m)\u001b[0m\u001b[0;34m\u001b[0m\u001b[0m\n\u001b[0m\u001b[1;32m     66\u001b[0m \u001b[0;34m\u001b[0m\u001b[0m\n\u001b[1;32m     67\u001b[0m     \u001b[0;32mreturn\u001b[0m \u001b[0mnew_method\u001b[0m\u001b[0;34m\u001b[0m\u001b[0m\n",
      "\u001b[0;32m/Library/Frameworks/Python.framework/Versions/3.6/lib/python3.6/site-packages/pandas/core/ops/__init__.py\u001b[0m in \u001b[0;36mwrapper\u001b[0;34m(self, other)\u001b[0m\n\u001b[1;32m    368\u001b[0m         \u001b[0mrvalues\u001b[0m \u001b[0;34m=\u001b[0m \u001b[0mextract_array\u001b[0m\u001b[0;34m(\u001b[0m\u001b[0mother\u001b[0m\u001b[0;34m,\u001b[0m \u001b[0mextract_numpy\u001b[0m\u001b[0;34m=\u001b[0m\u001b[0;32mTrue\u001b[0m\u001b[0;34m)\u001b[0m\u001b[0;34m\u001b[0m\u001b[0m\n\u001b[1;32m    369\u001b[0m \u001b[0;34m\u001b[0m\u001b[0m\n\u001b[0;32m--> 370\u001b[0;31m         \u001b[0mres_values\u001b[0m \u001b[0;34m=\u001b[0m \u001b[0mcomparison_op\u001b[0m\u001b[0;34m(\u001b[0m\u001b[0mlvalues\u001b[0m\u001b[0;34m,\u001b[0m \u001b[0mrvalues\u001b[0m\u001b[0;34m,\u001b[0m \u001b[0mop\u001b[0m\u001b[0;34m)\u001b[0m\u001b[0;34m\u001b[0m\u001b[0m\n\u001b[0m\u001b[1;32m    371\u001b[0m \u001b[0;34m\u001b[0m\u001b[0m\n\u001b[1;32m    372\u001b[0m         \u001b[0;32mreturn\u001b[0m \u001b[0mself\u001b[0m\u001b[0;34m.\u001b[0m\u001b[0m_construct_result\u001b[0m\u001b[0;34m(\u001b[0m\u001b[0mres_values\u001b[0m\u001b[0;34m,\u001b[0m \u001b[0mname\u001b[0m\u001b[0;34m=\u001b[0m\u001b[0mres_name\u001b[0m\u001b[0;34m)\u001b[0m\u001b[0;34m\u001b[0m\u001b[0m\n",
      "\u001b[0;32m/Library/Frameworks/Python.framework/Versions/3.6/lib/python3.6/site-packages/pandas/core/ops/array_ops.py\u001b[0m in \u001b[0;36mcomparison_op\u001b[0;34m(left, right, op)\u001b[0m\n\u001b[1;32m    242\u001b[0m \u001b[0;34m\u001b[0m\u001b[0m\n\u001b[1;32m    243\u001b[0m     \u001b[0;32melif\u001b[0m \u001b[0mis_object_dtype\u001b[0m\u001b[0;34m(\u001b[0m\u001b[0mlvalues\u001b[0m\u001b[0;34m.\u001b[0m\u001b[0mdtype\u001b[0m\u001b[0;34m)\u001b[0m\u001b[0;34m:\u001b[0m\u001b[0;34m\u001b[0m\u001b[0m\n\u001b[0;32m--> 244\u001b[0;31m         \u001b[0mres_values\u001b[0m \u001b[0;34m=\u001b[0m \u001b[0mcomp_method_OBJECT_ARRAY\u001b[0m\u001b[0;34m(\u001b[0m\u001b[0mop\u001b[0m\u001b[0;34m,\u001b[0m \u001b[0mlvalues\u001b[0m\u001b[0;34m,\u001b[0m \u001b[0mrvalues\u001b[0m\u001b[0;34m)\u001b[0m\u001b[0;34m\u001b[0m\u001b[0m\n\u001b[0m\u001b[1;32m    245\u001b[0m \u001b[0;34m\u001b[0m\u001b[0m\n\u001b[1;32m    246\u001b[0m     \u001b[0;32melse\u001b[0m\u001b[0;34m:\u001b[0m\u001b[0;34m\u001b[0m\u001b[0m\n",
      "\u001b[0;32m/Library/Frameworks/Python.framework/Versions/3.6/lib/python3.6/site-packages/pandas/core/ops/array_ops.py\u001b[0m in \u001b[0;36mcomp_method_OBJECT_ARRAY\u001b[0;34m(op, x, y)\u001b[0m\n\u001b[1;32m     54\u001b[0m         \u001b[0mresult\u001b[0m \u001b[0;34m=\u001b[0m \u001b[0mlibops\u001b[0m\u001b[0;34m.\u001b[0m\u001b[0mvec_compare\u001b[0m\u001b[0;34m(\u001b[0m\u001b[0mx\u001b[0m\u001b[0;34m.\u001b[0m\u001b[0mravel\u001b[0m\u001b[0;34m(\u001b[0m\u001b[0;34m)\u001b[0m\u001b[0;34m,\u001b[0m \u001b[0my\u001b[0m\u001b[0;34m.\u001b[0m\u001b[0mravel\u001b[0m\u001b[0;34m(\u001b[0m\u001b[0;34m)\u001b[0m\u001b[0;34m,\u001b[0m \u001b[0mop\u001b[0m\u001b[0;34m)\u001b[0m\u001b[0;34m\u001b[0m\u001b[0m\n\u001b[1;32m     55\u001b[0m     \u001b[0;32melse\u001b[0m\u001b[0;34m:\u001b[0m\u001b[0;34m\u001b[0m\u001b[0m\n\u001b[0;32m---> 56\u001b[0;31m         \u001b[0mresult\u001b[0m \u001b[0;34m=\u001b[0m \u001b[0mlibops\u001b[0m\u001b[0;34m.\u001b[0m\u001b[0mscalar_compare\u001b[0m\u001b[0;34m(\u001b[0m\u001b[0mx\u001b[0m\u001b[0;34m.\u001b[0m\u001b[0mravel\u001b[0m\u001b[0;34m(\u001b[0m\u001b[0;34m)\u001b[0m\u001b[0;34m,\u001b[0m \u001b[0my\u001b[0m\u001b[0;34m,\u001b[0m \u001b[0mop\u001b[0m\u001b[0;34m)\u001b[0m\u001b[0;34m\u001b[0m\u001b[0m\n\u001b[0m\u001b[1;32m     57\u001b[0m     \u001b[0;32mreturn\u001b[0m \u001b[0mresult\u001b[0m\u001b[0;34m.\u001b[0m\u001b[0mreshape\u001b[0m\u001b[0;34m(\u001b[0m\u001b[0mx\u001b[0m\u001b[0;34m.\u001b[0m\u001b[0mshape\u001b[0m\u001b[0;34m)\u001b[0m\u001b[0;34m\u001b[0m\u001b[0m\n\u001b[1;32m     58\u001b[0m \u001b[0;34m\u001b[0m\u001b[0m\n",
      "\u001b[0;31mKeyboardInterrupt\u001b[0m: "
     ]
    }
   ],
   "source": [
    "%%time\n",
    "\n",
    "trainingSize=.2\n",
    "shortRange=np.linspace(5,30,5,dtype=int)\n",
    "longRange=np.linspace(50,90,5,dtype=int)\n",
    "upperPRange=np.linspace(.00000001,.025,5)\n",
    "lowerPRange=np.linspace(.00000001,.025,5)\n",
    "\n",
    "results=s.run(data,trainingSize,shortRange,longRange,upperPRange,lowerPRange)\n",
    "results"
   ]
  },
  {
   "cell_type": "code",
   "execution_count": 24,
   "id": "military-shopping",
   "metadata": {},
   "outputs": [
    {
     "data": {
      "text/html": [
       "<div>\n",
       "<style scoped>\n",
       "    .dataframe tbody tr th:only-of-type {\n",
       "        vertical-align: middle;\n",
       "    }\n",
       "\n",
       "    .dataframe tbody tr th {\n",
       "        vertical-align: top;\n",
       "    }\n",
       "\n",
       "    .dataframe thead th {\n",
       "        text-align: right;\n",
       "    }\n",
       "</style>\n",
       "<table border=\"1\" class=\"dataframe\">\n",
       "  <thead>\n",
       "    <tr style=\"text-align: right;\">\n",
       "      <th></th>\n",
       "      <th>Unnamed: 0</th>\n",
       "      <th>upper_short</th>\n",
       "      <th>lower_short</th>\n",
       "      <th>upper_long</th>\n",
       "      <th>lower_long</th>\n",
       "      <th>upper_p</th>\n",
       "      <th>lower_p</th>\n",
       "      <th>training_returns</th>\n",
       "      <th>training_benchmark_returns</th>\n",
       "      <th>training_benchmark_std</th>\n",
       "      <th>returns</th>\n",
       "      <th>benchmark_returns</th>\n",
       "      <th>benchmark_std</th>\n",
       "      <th>ticker</th>\n",
       "    </tr>\n",
       "  </thead>\n",
       "  <tbody>\n",
       "    <tr>\n",
       "      <th>0</th>\n",
       "      <td>0</td>\n",
       "      <td>11</td>\n",
       "      <td>19</td>\n",
       "      <td>60</td>\n",
       "      <td>70</td>\n",
       "      <td>2.500000e-02</td>\n",
       "      <td>1.000000e-08</td>\n",
       "      <td>-0.002740</td>\n",
       "      <td>0.000311</td>\n",
       "      <td>0.018389</td>\n",
       "      <td>-0.002231</td>\n",
       "      <td>0.001296</td>\n",
       "      <td>0.017772</td>\n",
       "      <td>AAPL</td>\n",
       "    </tr>\n",
       "    <tr>\n",
       "      <th>1</th>\n",
       "      <td>1</td>\n",
       "      <td>3</td>\n",
       "      <td>35</td>\n",
       "      <td>90</td>\n",
       "      <td>50</td>\n",
       "      <td>1.000000e-08</td>\n",
       "      <td>7.500025e-04</td>\n",
       "      <td>0.001821</td>\n",
       "      <td>0.001656</td>\n",
       "      <td>0.015622</td>\n",
       "      <td>-0.002623</td>\n",
       "      <td>0.000828</td>\n",
       "      <td>0.017550</td>\n",
       "      <td>ABBV</td>\n",
       "    </tr>\n",
       "    <tr>\n",
       "      <th>2</th>\n",
       "      <td>2</td>\n",
       "      <td>3</td>\n",
       "      <td>35</td>\n",
       "      <td>60</td>\n",
       "      <td>50</td>\n",
       "      <td>1.875000e-02</td>\n",
       "      <td>7.500025e-04</td>\n",
       "      <td>0.000535</td>\n",
       "      <td>0.000885</td>\n",
       "      <td>0.011031</td>\n",
       "      <td>-0.004440</td>\n",
       "      <td>0.000732</td>\n",
       "      <td>0.014804</td>\n",
       "      <td>ABT</td>\n",
       "    </tr>\n",
       "    <tr>\n",
       "      <th>3</th>\n",
       "      <td>3</td>\n",
       "      <td>11</td>\n",
       "      <td>35</td>\n",
       "      <td>80</td>\n",
       "      <td>70</td>\n",
       "      <td>1.875000e-02</td>\n",
       "      <td>7.500025e-04</td>\n",
       "      <td>-0.000042</td>\n",
       "      <td>0.000902</td>\n",
       "      <td>0.013483</td>\n",
       "      <td>-0.001306</td>\n",
       "      <td>0.000851</td>\n",
       "      <td>0.014729</td>\n",
       "      <td>ACN</td>\n",
       "    </tr>\n",
       "    <tr>\n",
       "      <th>4</th>\n",
       "      <td>4</td>\n",
       "      <td>3</td>\n",
       "      <td>35</td>\n",
       "      <td>70</td>\n",
       "      <td>80</td>\n",
       "      <td>1.000000e-08</td>\n",
       "      <td>5.000050e-04</td>\n",
       "      <td>0.001880</td>\n",
       "      <td>0.001603</td>\n",
       "      <td>0.015621</td>\n",
       "      <td>0.002084</td>\n",
       "      <td>0.001111</td>\n",
       "      <td>0.019201</td>\n",
       "      <td>ADBE</td>\n",
       "    </tr>\n",
       "    <tr>\n",
       "      <th>5</th>\n",
       "      <td>5</td>\n",
       "      <td>3</td>\n",
       "      <td>27</td>\n",
       "      <td>60</td>\n",
       "      <td>80</td>\n",
       "      <td>1.000000e-08</td>\n",
       "      <td>5.000050e-04</td>\n",
       "      <td>NaN</td>\n",
       "      <td>0.001024</td>\n",
       "      <td>0.015073</td>\n",
       "      <td>-0.000537</td>\n",
       "      <td>0.001316</td>\n",
       "      <td>0.024081</td>\n",
       "      <td>AMAT</td>\n",
       "    </tr>\n",
       "    <tr>\n",
       "      <th>6</th>\n",
       "      <td>6</td>\n",
       "      <td>11</td>\n",
       "      <td>35</td>\n",
       "      <td>50</td>\n",
       "      <td>60</td>\n",
       "      <td>2.500000e-02</td>\n",
       "      <td>2.500075e-04</td>\n",
       "      <td>0.002418</td>\n",
       "      <td>-0.000788</td>\n",
       "      <td>0.033377</td>\n",
       "      <td>-0.001211</td>\n",
       "      <td>0.002381</td>\n",
       "      <td>0.037310</td>\n",
       "      <td>AMD</td>\n",
       "    </tr>\n",
       "    <tr>\n",
       "      <th>7</th>\n",
       "      <td>7</td>\n",
       "      <td>35</td>\n",
       "      <td>11</td>\n",
       "      <td>70</td>\n",
       "      <td>80</td>\n",
       "      <td>2.500000e-02</td>\n",
       "      <td>1.000000e-08</td>\n",
       "      <td>0.001342</td>\n",
       "      <td>0.001408</td>\n",
       "      <td>0.014624</td>\n",
       "      <td>0.000105</td>\n",
       "      <td>0.000523</td>\n",
       "      <td>0.016067</td>\n",
       "      <td>AMGN</td>\n",
       "    </tr>\n",
       "    <tr>\n",
       "      <th>8</th>\n",
       "      <td>8</td>\n",
       "      <td>3</td>\n",
       "      <td>35</td>\n",
       "      <td>60</td>\n",
       "      <td>50</td>\n",
       "      <td>1.000000e-08</td>\n",
       "      <td>2.500075e-04</td>\n",
       "      <td>0.002489</td>\n",
       "      <td>0.001473</td>\n",
       "      <td>0.018768</td>\n",
       "      <td>-0.000382</td>\n",
       "      <td>0.001262</td>\n",
       "      <td>0.019350</td>\n",
       "      <td>AMZN</td>\n",
       "    </tr>\n",
       "    <tr>\n",
       "      <th>9</th>\n",
       "      <td>9</td>\n",
       "      <td>3</td>\n",
       "      <td>35</td>\n",
       "      <td>60</td>\n",
       "      <td>50</td>\n",
       "      <td>1.000000e-08</td>\n",
       "      <td>2.500075e-04</td>\n",
       "      <td>-0.000151</td>\n",
       "      <td>0.002020</td>\n",
       "      <td>0.022185</td>\n",
       "      <td>-0.005255</td>\n",
       "      <td>0.001241</td>\n",
       "      <td>0.020734</td>\n",
       "      <td>ASML</td>\n",
       "    </tr>\n",
       "    <tr>\n",
       "      <th>10</th>\n",
       "      <td>10</td>\n",
       "      <td>3</td>\n",
       "      <td>27</td>\n",
       "      <td>90</td>\n",
       "      <td>80</td>\n",
       "      <td>1.000000e-08</td>\n",
       "      <td>1.000000e-03</td>\n",
       "      <td>NaN</td>\n",
       "      <td>0.001292</td>\n",
       "      <td>0.020074</td>\n",
       "      <td>0.000676</td>\n",
       "      <td>0.001488</td>\n",
       "      <td>0.022037</td>\n",
       "      <td>AVGO</td>\n",
       "    </tr>\n",
       "    <tr>\n",
       "      <th>11</th>\n",
       "      <td>11</td>\n",
       "      <td>11</td>\n",
       "      <td>11</td>\n",
       "      <td>70</td>\n",
       "      <td>70</td>\n",
       "      <td>2.500000e-02</td>\n",
       "      <td>1.000000e-08</td>\n",
       "      <td>0.001298</td>\n",
       "      <td>0.001164</td>\n",
       "      <td>0.012178</td>\n",
       "      <td>-0.003697</td>\n",
       "      <td>0.000630</td>\n",
       "      <td>0.019214</td>\n",
       "      <td>AXP</td>\n",
       "    </tr>\n",
       "    <tr>\n",
       "      <th>12</th>\n",
       "      <td>12</td>\n",
       "      <td>19</td>\n",
       "      <td>11</td>\n",
       "      <td>60</td>\n",
       "      <td>90</td>\n",
       "      <td>2.500000e-02</td>\n",
       "      <td>1.000000e-08</td>\n",
       "      <td>0.001128</td>\n",
       "      <td>0.001048</td>\n",
       "      <td>0.009978</td>\n",
       "      <td>0.000300</td>\n",
       "      <td>0.000556</td>\n",
       "      <td>0.016025</td>\n",
       "      <td>AZN</td>\n",
       "    </tr>\n",
       "    <tr>\n",
       "      <th>13</th>\n",
       "      <td>13</td>\n",
       "      <td>11</td>\n",
       "      <td>35</td>\n",
       "      <td>50</td>\n",
       "      <td>70</td>\n",
       "      <td>1.875000e-02</td>\n",
       "      <td>5.000050e-04</td>\n",
       "      <td>0.004854</td>\n",
       "      <td>0.001243</td>\n",
       "      <td>0.013149</td>\n",
       "      <td>-0.001676</td>\n",
       "      <td>0.000625</td>\n",
       "      <td>0.024998</td>\n",
       "      <td>BA</td>\n",
       "    </tr>\n",
       "    <tr>\n",
       "      <th>14</th>\n",
       "      <td>14</td>\n",
       "      <td>3</td>\n",
       "      <td>3</td>\n",
       "      <td>50</td>\n",
       "      <td>50</td>\n",
       "      <td>1.000000e-08</td>\n",
       "      <td>1.000000e-08</td>\n",
       "      <td>NaN</td>\n",
       "      <td>NaN</td>\n",
       "      <td>NaN</td>\n",
       "      <td>-0.003420</td>\n",
       "      <td>0.000379</td>\n",
       "      <td>0.022481</td>\n",
       "      <td>BABA</td>\n",
       "    </tr>\n",
       "  </tbody>\n",
       "</table>\n",
       "</div>"
      ],
      "text/plain": [
       "    Unnamed: 0  upper_short  lower_short  upper_long  lower_long  \\\n",
       "0            0           11           19          60          70   \n",
       "1            1            3           35          90          50   \n",
       "2            2            3           35          60          50   \n",
       "3            3           11           35          80          70   \n",
       "4            4            3           35          70          80   \n",
       "5            5            3           27          60          80   \n",
       "6            6           11           35          50          60   \n",
       "7            7           35           11          70          80   \n",
       "8            8            3           35          60          50   \n",
       "9            9            3           35          60          50   \n",
       "10          10            3           27          90          80   \n",
       "11          11           11           11          70          70   \n",
       "12          12           19           11          60          90   \n",
       "13          13           11           35          50          70   \n",
       "14          14            3            3          50          50   \n",
       "\n",
       "         upper_p       lower_p  training_returns  training_benchmark_returns  \\\n",
       "0   2.500000e-02  1.000000e-08         -0.002740                    0.000311   \n",
       "1   1.000000e-08  7.500025e-04          0.001821                    0.001656   \n",
       "2   1.875000e-02  7.500025e-04          0.000535                    0.000885   \n",
       "3   1.875000e-02  7.500025e-04         -0.000042                    0.000902   \n",
       "4   1.000000e-08  5.000050e-04          0.001880                    0.001603   \n",
       "5   1.000000e-08  5.000050e-04               NaN                    0.001024   \n",
       "6   2.500000e-02  2.500075e-04          0.002418                   -0.000788   \n",
       "7   2.500000e-02  1.000000e-08          0.001342                    0.001408   \n",
       "8   1.000000e-08  2.500075e-04          0.002489                    0.001473   \n",
       "9   1.000000e-08  2.500075e-04         -0.000151                    0.002020   \n",
       "10  1.000000e-08  1.000000e-03               NaN                    0.001292   \n",
       "11  2.500000e-02  1.000000e-08          0.001298                    0.001164   \n",
       "12  2.500000e-02  1.000000e-08          0.001128                    0.001048   \n",
       "13  1.875000e-02  5.000050e-04          0.004854                    0.001243   \n",
       "14  1.000000e-08  1.000000e-08               NaN                         NaN   \n",
       "\n",
       "    training_benchmark_std   returns  benchmark_returns  benchmark_std ticker  \n",
       "0                 0.018389 -0.002231           0.001296       0.017772   AAPL  \n",
       "1                 0.015622 -0.002623           0.000828       0.017550   ABBV  \n",
       "2                 0.011031 -0.004440           0.000732       0.014804    ABT  \n",
       "3                 0.013483 -0.001306           0.000851       0.014729    ACN  \n",
       "4                 0.015621  0.002084           0.001111       0.019201   ADBE  \n",
       "5                 0.015073 -0.000537           0.001316       0.024081   AMAT  \n",
       "6                 0.033377 -0.001211           0.002381       0.037310    AMD  \n",
       "7                 0.014624  0.000105           0.000523       0.016067   AMGN  \n",
       "8                 0.018768 -0.000382           0.001262       0.019350   AMZN  \n",
       "9                 0.022185 -0.005255           0.001241       0.020734   ASML  \n",
       "10                0.020074  0.000676           0.001488       0.022037   AVGO  \n",
       "11                0.012178 -0.003697           0.000630       0.019214    AXP  \n",
       "12                0.009978  0.000300           0.000556       0.016025    AZN  \n",
       "13                0.013149 -0.001676           0.000625       0.024998     BA  \n",
       "14                     NaN -0.003420           0.000379       0.022481   BABA  "
      ]
     },
     "execution_count": 24,
     "metadata": {},
     "output_type": "execute_result"
    }
   ],
   "source": [
    "res=pd.read_csv('top15.csv')\n",
    "res"
   ]
  },
  {
   "cell_type": "code",
   "execution_count": 32,
   "id": "wooden-vegetarian",
   "metadata": {},
   "outputs": [
    {
     "data": {
      "text/plain": [
       "0.08333333333333333"
      ]
     },
     "execution_count": 32,
     "metadata": {},
     "output_type": "execute_result"
    }
   ],
   "source": [
    "res.dropna(inplace=True)\n",
    "len(res[res.returns>res.benchmark_returns])/len(res)"
   ]
  },
  {
   "cell_type": "code",
   "execution_count": 25,
   "id": "taken-nutrition",
   "metadata": {},
   "outputs": [
    {
     "data": {
      "text/plain": [
       "<AxesSubplot:>"
      ]
     },
     "execution_count": 25,
     "metadata": {},
     "output_type": "execute_result"
    },
    {
     "data": {
      "image/png": "[encoded data removed]",
      "text/plain": [
       "<Figure size 432x288 with 1 Axes>"
      ]
     },
     "metadata": {
      "needs_background": "light"
     },
     "output_type": "display_data"
    }
   ],
   "source": [
    "res.upper_short.hist()"
   ]
  },
  {
   "cell_type": "code",
   "execution_count": 26,
   "id": "based-monkey",
   "metadata": {},
   "outputs": [
    {
     "data": {
      "text/plain": [
       "<AxesSubplot:>"
      ]
     },
     "execution_count": 26,
     "metadata": {},
     "output_type": "execute_result"
    },
    {
     "data": {
      "image/png": "[encoded data removed]",
      "text/plain": [
       "<Figure size 432x288 with 1 Axes>"
      ]
     },
     "metadata": {
      "needs_background": "light"
     },
     "output_type": "display_data"
    }
   ],
   "source": [
    "res.upper_long.hist()"
   ]
  },
  {
   "cell_type": "code",
   "execution_count": 27,
   "id": "atlantic-matthew",
   "metadata": {},
   "outputs": [
    {
     "data": {
      "text/plain": [
       "<AxesSubplot:>"
      ]
     },
     "execution_count": 27,
     "metadata": {},
     "output_type": "execute_result"
    },
    {
     "data": {
      "image/png": "[encoded data removed]",
      "text/plain": [
       "<Figure size 432x288 with 1 Axes>"
      ]
     },
     "metadata": {
      "needs_background": "light"
     },
     "output_type": "display_data"
    }
   ],
   "source": [
    "res.upper_p.hist()"
   ]
  },
  {
   "cell_type": "code",
   "execution_count": 28,
   "id": "sublime-plate",
   "metadata": {},
   "outputs": [
    {
     "data": {
      "text/plain": [
       "<AxesSubplot:>"
      ]
     },
     "execution_count": 28,
     "metadata": {},
     "output_type": "execute_result"
    },
    {
     "data": {
      "image/png": "[encoded data removed]",
      "text/plain": [
       "<Figure size 432x288 with 1 Axes>"
      ]
     },
     "metadata": {
      "needs_background": "light"
     },
     "output_type": "display_data"
    }
   ],
   "source": [
    "res.lower_short.hist()"
   ]
  },
  {
   "cell_type": "code",
   "execution_count": 29,
   "id": "confidential-territory",
   "metadata": {},
   "outputs": [
    {
     "data": {
      "text/plain": [
       "<AxesSubplot:>"
      ]
     },
     "execution_count": 29,
     "metadata": {},
     "output_type": "execute_result"
    },
    {
     "data": {
      "image/png": "[encoded data removed]",
      "text/plain": [
       "<Figure size 432x288 with 1 Axes>"
      ]
     },
     "metadata": {
      "needs_background": "light"
     },
     "output_type": "display_data"
    }
   ],
   "source": [
    "res.lower_long.hist()"
   ]
  },
  {
   "cell_type": "code",
   "execution_count": 30,
   "id": "sustained-contributor",
   "metadata": {},
   "outputs": [
    {
     "data": {
      "text/plain": [
       "<AxesSubplot:>"
      ]
     },
     "execution_count": 30,
     "metadata": {},
     "output_type": "execute_result"
    },
    {
     "data": {
      "image/png": "[encoded data removed]",
      "text/plain": [
       "<Figure size 432x288 with 1 Axes>"
      ]
     },
     "metadata": {
      "needs_background": "light"
     },
     "output_type": "display_data"
    }
   ],
   "source": [
    "res.lower_p.hist()"
   ]
  },
  {
   "cell_type": "code",
   "execution_count": null,
   "id": "declared-viewer",
   "metadata": {},
   "outputs": [],
   "source": []
  }
 ],
 "metadata": {
  "kernelspec": {
   "display_name": "Python 3",
   "language": "python",
   "name": "python3"
  },
  "language_info": {
   "codemirror_mode": {
    "name": "ipython",
    "version": 3
   },
   "file_extension": ".py",
   "mimetype": "text/x-python",
   "name": "python",
   "nbconvert_exporter": "python",
   "pygments_lexer": "ipython3",
   "version": "3.6.4"
  }
 },
 "nbformat": 4,
 "nbformat_minor": 5
}
