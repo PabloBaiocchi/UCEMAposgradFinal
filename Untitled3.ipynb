{
 "cells": [
  {
   "cell_type": "code",
   "execution_count": 22,
   "id": "japanese-andrews",
   "metadata": {},
   "outputs": [],
   "source": [
    "def confidenceInterval(series,alpha):\n",
    "    u=series.mean()\n",
    "    s=series.std()\n",
    "    n=len(series)\n",
    "    t=stats.t.ppf(1-alpha/2,n-1)\n",
    "    e=s*t/n**.5\n",
    "    return (u-e,u+e)"
   ]
  },
  {
   "cell_type": "code",
   "execution_count": 65,
   "id": "wireless-violin",
   "metadata": {},
   "outputs": [
    {
     "data": {
      "text/html": [
       "<div>\n",
       "<style scoped>\n",
       "    .dataframe tbody tr th:only-of-type {\n",
       "        vertical-align: middle;\n",
       "    }\n",
       "\n",
       "    .dataframe tbody tr th {\n",
       "        vertical-align: top;\n",
       "    }\n",
       "\n",
       "    .dataframe thead th {\n",
       "        text-align: right;\n",
       "    }\n",
       "</style>\n",
       "<table border=\"1\" class=\"dataframe\">\n",
       "  <thead>\n",
       "    <tr style=\"text-align: right;\">\n",
       "      <th></th>\n",
       "      <th>upper_short</th>\n",
       "      <th>lower_short</th>\n",
       "      <th>upper_long</th>\n",
       "      <th>lower_long</th>\n",
       "      <th>upper_p</th>\n",
       "      <th>lower_p</th>\n",
       "      <th>training_returns</th>\n",
       "      <th>training_benchmark_returns</th>\n",
       "      <th>training_benchmark_std</th>\n",
       "      <th>returns</th>\n",
       "      <th>benchmark_returns</th>\n",
       "      <th>benchmark_std</th>\n",
       "      <th>ticker</th>\n",
       "    </tr>\n",
       "  </thead>\n",
       "  <tbody>\n",
       "    <tr>\n",
       "      <th>0</th>\n",
       "      <td>10</td>\n",
       "      <td>10</td>\n",
       "      <td>68</td>\n",
       "      <td>50</td>\n",
       "      <td>0.000100</td>\n",
       "      <td>1.000000e-08</td>\n",
       "      <td>-0.001540</td>\n",
       "      <td>0.000311</td>\n",
       "      <td>0.018389</td>\n",
       "      <td>0.000262</td>\n",
       "      <td>0.001296</td>\n",
       "      <td>0.017772</td>\n",
       "      <td>AAPL</td>\n",
       "    </tr>\n",
       "    <tr>\n",
       "      <th>1</th>\n",
       "      <td>17</td>\n",
       "      <td>25</td>\n",
       "      <td>50</td>\n",
       "      <td>62</td>\n",
       "      <td>0.025000</td>\n",
       "      <td>5.000500e-05</td>\n",
       "      <td>0.002111</td>\n",
       "      <td>0.001656</td>\n",
       "      <td>0.015622</td>\n",
       "      <td>-0.001143</td>\n",
       "      <td>0.000828</td>\n",
       "      <td>0.017550</td>\n",
       "      <td>ABBV</td>\n",
       "    </tr>\n",
       "    <tr>\n",
       "      <th>2</th>\n",
       "      <td>10</td>\n",
       "      <td>21</td>\n",
       "      <td>68</td>\n",
       "      <td>56</td>\n",
       "      <td>0.012550</td>\n",
       "      <td>1.000000e-08</td>\n",
       "      <td>0.000454</td>\n",
       "      <td>0.000885</td>\n",
       "      <td>0.011031</td>\n",
       "      <td>-0.002622</td>\n",
       "      <td>0.000732</td>\n",
       "      <td>0.014804</td>\n",
       "      <td>ABT</td>\n",
       "    </tr>\n",
       "    <tr>\n",
       "      <th>3</th>\n",
       "      <td>10</td>\n",
       "      <td>17</td>\n",
       "      <td>56</td>\n",
       "      <td>56</td>\n",
       "      <td>0.018775</td>\n",
       "      <td>1.000000e-04</td>\n",
       "      <td>-0.000395</td>\n",
       "      <td>0.000902</td>\n",
       "      <td>0.013483</td>\n",
       "      <td>-0.001138</td>\n",
       "      <td>0.000851</td>\n",
       "      <td>0.014729</td>\n",
       "      <td>ACN</td>\n",
       "    </tr>\n",
       "    <tr>\n",
       "      <th>4</th>\n",
       "      <td>25</td>\n",
       "      <td>10</td>\n",
       "      <td>62</td>\n",
       "      <td>75</td>\n",
       "      <td>0.006325</td>\n",
       "      <td>7.500250e-05</td>\n",
       "      <td>0.003296</td>\n",
       "      <td>0.001603</td>\n",
       "      <td>0.015621</td>\n",
       "      <td>0.000654</td>\n",
       "      <td>0.001111</td>\n",
       "      <td>0.019201</td>\n",
       "      <td>ADBE</td>\n",
       "    </tr>\n",
       "    <tr>\n",
       "      <th>...</th>\n",
       "      <td>...</td>\n",
       "      <td>...</td>\n",
       "      <td>...</td>\n",
       "      <td>...</td>\n",
       "      <td>...</td>\n",
       "      <td>...</td>\n",
       "      <td>...</td>\n",
       "      <td>...</td>\n",
       "      <td>...</td>\n",
       "      <td>...</td>\n",
       "      <td>...</td>\n",
       "      <td>...</td>\n",
       "      <td>...</td>\n",
       "    </tr>\n",
       "    <tr>\n",
       "      <th>91</th>\n",
       "      <td>21</td>\n",
       "      <td>25</td>\n",
       "      <td>50</td>\n",
       "      <td>68</td>\n",
       "      <td>0.006325</td>\n",
       "      <td>1.000000e-04</td>\n",
       "      <td>NaN</td>\n",
       "      <td>0.001458</td>\n",
       "      <td>0.013354</td>\n",
       "      <td>0.000006</td>\n",
       "      <td>0.000838</td>\n",
       "      <td>0.015808</td>\n",
       "      <td>V</td>\n",
       "    </tr>\n",
       "    <tr>\n",
       "      <th>92</th>\n",
       "      <td>10</td>\n",
       "      <td>25</td>\n",
       "      <td>50</td>\n",
       "      <td>56</td>\n",
       "      <td>0.025000</td>\n",
       "      <td>1.000000e-08</td>\n",
       "      <td>0.000535</td>\n",
       "      <td>0.000676</td>\n",
       "      <td>0.010289</td>\n",
       "      <td>NaN</td>\n",
       "      <td>0.000295</td>\n",
       "      <td>0.011065</td>\n",
       "      <td>VZ</td>\n",
       "    </tr>\n",
       "    <tr>\n",
       "      <th>93</th>\n",
       "      <td>13</td>\n",
       "      <td>13</td>\n",
       "      <td>62</td>\n",
       "      <td>50</td>\n",
       "      <td>0.025000</td>\n",
       "      <td>1.000000e-04</td>\n",
       "      <td>0.001027</td>\n",
       "      <td>0.000956</td>\n",
       "      <td>0.011669</td>\n",
       "      <td>-0.001030</td>\n",
       "      <td>0.000398</td>\n",
       "      <td>0.019187</td>\n",
       "      <td>WFC</td>\n",
       "    </tr>\n",
       "    <tr>\n",
       "      <th>94</th>\n",
       "      <td>13</td>\n",
       "      <td>25</td>\n",
       "      <td>62</td>\n",
       "      <td>62</td>\n",
       "      <td>0.012550</td>\n",
       "      <td>2.500750e-05</td>\n",
       "      <td>0.000061</td>\n",
       "      <td>0.000540</td>\n",
       "      <td>0.009054</td>\n",
       "      <td>0.000321</td>\n",
       "      <td>0.000487</td>\n",
       "      <td>0.012966</td>\n",
       "      <td>WMT</td>\n",
       "    </tr>\n",
       "    <tr>\n",
       "      <th>95</th>\n",
       "      <td>10</td>\n",
       "      <td>21</td>\n",
       "      <td>50</td>\n",
       "      <td>62</td>\n",
       "      <td>0.006325</td>\n",
       "      <td>1.000000e-08</td>\n",
       "      <td>0.000749</td>\n",
       "      <td>0.000340</td>\n",
       "      <td>0.009035</td>\n",
       "      <td>-0.006502</td>\n",
       "      <td>0.000221</td>\n",
       "      <td>0.017038</td>\n",
       "      <td>XOM</td>\n",
       "    </tr>\n",
       "  </tbody>\n",
       "</table>\n",
       "<p>96 rows × 13 columns</p>\n",
       "</div>"
      ],
      "text/plain": [
       "    upper_short  lower_short  upper_long  lower_long   upper_p       lower_p  \\\n",
       "0            10           10          68          50  0.000100  1.000000e-08   \n",
       "1            17           25          50          62  0.025000  5.000500e-05   \n",
       "2            10           21          68          56  0.012550  1.000000e-08   \n",
       "3            10           17          56          56  0.018775  1.000000e-04   \n",
       "4            25           10          62          75  0.006325  7.500250e-05   \n",
       "..          ...          ...         ...         ...       ...           ...   \n",
       "91           21           25          50          68  0.006325  1.000000e-04   \n",
       "92           10           25          50          56  0.025000  1.000000e-08   \n",
       "93           13           13          62          50  0.025000  1.000000e-04   \n",
       "94           13           25          62          62  0.012550  2.500750e-05   \n",
       "95           10           21          50          62  0.006325  1.000000e-08   \n",
       "\n",
       "    training_returns  training_benchmark_returns  training_benchmark_std  \\\n",
       "0          -0.001540                    0.000311                0.018389   \n",
       "1           0.002111                    0.001656                0.015622   \n",
       "2           0.000454                    0.000885                0.011031   \n",
       "3          -0.000395                    0.000902                0.013483   \n",
       "4           0.003296                    0.001603                0.015621   \n",
       "..               ...                         ...                     ...   \n",
       "91               NaN                    0.001458                0.013354   \n",
       "92          0.000535                    0.000676                0.010289   \n",
       "93          0.001027                    0.000956                0.011669   \n",
       "94          0.000061                    0.000540                0.009054   \n",
       "95          0.000749                    0.000340                0.009035   \n",
       "\n",
       "     returns  benchmark_returns  benchmark_std ticker  \n",
       "0   0.000262           0.001296       0.017772   AAPL  \n",
       "1  -0.001143           0.000828       0.017550   ABBV  \n",
       "2  -0.002622           0.000732       0.014804    ABT  \n",
       "3  -0.001138           0.000851       0.014729    ACN  \n",
       "4   0.000654           0.001111       0.019201   ADBE  \n",
       "..       ...                ...            ...    ...  \n",
       "91  0.000006           0.000838       0.015808      V  \n",
       "92       NaN           0.000295       0.011065     VZ  \n",
       "93 -0.001030           0.000398       0.019187    WFC  \n",
       "94  0.000321           0.000487       0.012966    WMT  \n",
       "95 -0.006502           0.000221       0.017038    XOM  \n",
       "\n",
       "[96 rows x 13 columns]"
      ]
     },
     "execution_count": 65,
     "metadata": {},
     "output_type": "execute_result"
    }
   ],
   "source": [
    "res=pd.read_csv('largeCapTwoSidedResults.csv')\n",
    "res.drop('Unnamed: 0',axis='columns',inplace=True)\n",
    "res"
   ]
  },
  {
   "cell_type": "code",
   "execution_count": 66,
   "id": "furnished-bobby",
   "metadata": {},
   "outputs": [],
   "source": [
    "res.dropna(inplace=True)"
   ]
  },
  {
   "cell_type": "code",
   "execution_count": 67,
   "id": "natural-script",
   "metadata": {},
   "outputs": [
    {
     "data": {
      "text/plain": [
       "(-0.0016623425110035115, -0.0007016815446445088)"
      ]
     },
     "execution_count": 67,
     "metadata": {},
     "output_type": "execute_result"
    }
   ],
   "source": [
    "confidenceInterval(res.returns,.05)"
   ]
  },
  {
   "cell_type": "code",
   "execution_count": 68,
   "id": "lesbian-upper",
   "metadata": {},
   "outputs": [
    {
     "data": {
      "text/plain": [
       "(0.0006161640954251721, 0.0007913343780321541)"
      ]
     },
     "execution_count": 68,
     "metadata": {},
     "output_type": "execute_result"
    }
   ],
   "source": [
    "confidenceInterval(res.benchmark_returns,.05)"
   ]
  },
  {
   "cell_type": "code",
   "execution_count": 69,
   "id": "perfect-soldier",
   "metadata": {},
   "outputs": [
    {
     "data": {
      "text/plain": [
       "(0.0011562234364395553, 0.0021696248574750894)"
      ]
     },
     "execution_count": 69,
     "metadata": {},
     "output_type": "execute_result"
    }
   ],
   "source": [
    "confidenceInterval(res.training_returns,.05)"
   ]
  },
  {
   "cell_type": "code",
   "execution_count": 70,
   "id": "weighted-nation",
   "metadata": {},
   "outputs": [
    {
     "data": {
      "text/plain": [
       "(0.0007249764345725502, 0.0010187264671660638)"
      ]
     },
     "execution_count": 70,
     "metadata": {},
     "output_type": "execute_result"
    }
   ],
   "source": [
    "confidenceInterval(res.training_benchmark_returns,.05)"
   ]
  },
  {
   "cell_type": "code",
   "execution_count": 71,
   "id": "affected-azerbaijan",
   "metadata": {},
   "outputs": [
    {
     "data": {
      "text/plain": [
       "0.5949367088607594"
      ]
     },
     "execution_count": 71,
     "metadata": {},
     "output_type": "execute_result"
    }
   ],
   "source": [
    "len(res[res.training_returns>res.training_benchmark_returns])/len(res)"
   ]
  },
  {
   "cell_type": "code",
   "execution_count": 72,
   "id": "requested-canberra",
   "metadata": {},
   "outputs": [
    {
     "data": {
      "text/plain": [
       "0.1518987341772152"
      ]
     },
     "execution_count": 72,
     "metadata": {},
     "output_type": "execute_result"
    }
   ],
   "source": [
    "len(res[res.returns>res.benchmark_returns])/len(res)"
   ]
  },
  {
   "cell_type": "code",
   "execution_count": 73,
   "id": "variable-window",
   "metadata": {},
   "outputs": [],
   "source": [
    "winners=res[res.returns>res.benchmark_returns]"
   ]
  },
  {
   "cell_type": "code",
   "execution_count": 74,
   "id": "systematic-touch",
   "metadata": {},
   "outputs": [
    {
     "data": {
      "text/plain": [
       "19.75"
      ]
     },
     "execution_count": 74,
     "metadata": {},
     "output_type": "execute_result"
    }
   ],
   "source": [
    "winners.lower_short.mean()"
   ]
  },
  {
   "cell_type": "code",
   "execution_count": 75,
   "id": "included-indicator",
   "metadata": {},
   "outputs": [
    {
     "data": {
      "text/plain": [
       "17.083333333333332"
      ]
     },
     "execution_count": 75,
     "metadata": {},
     "output_type": "execute_result"
    }
   ],
   "source": [
    "winners.upper_short.mean()"
   ]
  },
  {
   "cell_type": "code",
   "execution_count": 76,
   "id": "noted-glance",
   "metadata": {},
   "outputs": [
    {
     "data": {
      "text/plain": [
       "61.666666666666664"
      ]
     },
     "execution_count": 76,
     "metadata": {},
     "output_type": "execute_result"
    }
   ],
   "source": [
    "winners.lower_long.mean()"
   ]
  },
  {
   "cell_type": "code",
   "execution_count": 77,
   "id": "mobile-doctor",
   "metadata": {},
   "outputs": [
    {
     "data": {
      "text/plain": [
       "64.83333333333333"
      ]
     },
     "execution_count": 77,
     "metadata": {},
     "output_type": "execute_result"
    }
   ],
   "source": [
    "winners.upper_long.mean()"
   ]
  },
  {
   "cell_type": "code",
   "execution_count": 78,
   "id": "imported-joining",
   "metadata": {},
   "outputs": [
    {
     "data": {
      "text/plain": [
       "0.0167"
      ]
     },
     "execution_count": 78,
     "metadata": {},
     "output_type": "execute_result"
    }
   ],
   "source": [
    "winners.upper_p.mean()"
   ]
  },
  {
   "cell_type": "code",
   "execution_count": 79,
   "id": "plastic-winning",
   "metadata": {},
   "outputs": [
    {
     "data": {
      "text/plain": [
       "3.334e-05"
      ]
     },
     "execution_count": 79,
     "metadata": {},
     "output_type": "execute_result"
    }
   ],
   "source": [
    "winners.lower_p.mean()"
   ]
  },
  {
   "cell_type": "code",
   "execution_count": 80,
   "id": "sticky-texas",
   "metadata": {},
   "outputs": [
    {
     "data": {
      "text/html": [
       "<div>\n",
       "<style scoped>\n",
       "    .dataframe tbody tr th:only-of-type {\n",
       "        vertical-align: middle;\n",
       "    }\n",
       "\n",
       "    .dataframe tbody tr th {\n",
       "        vertical-align: top;\n",
       "    }\n",
       "\n",
       "    .dataframe thead th {\n",
       "        text-align: right;\n",
       "    }\n",
       "</style>\n",
       "<table border=\"1\" class=\"dataframe\">\n",
       "  <thead>\n",
       "    <tr style=\"text-align: right;\">\n",
       "      <th></th>\n",
       "      <th>upper_short</th>\n",
       "      <th>lower_short</th>\n",
       "      <th>upper_long</th>\n",
       "      <th>lower_long</th>\n",
       "      <th>upper_p</th>\n",
       "      <th>lower_p</th>\n",
       "      <th>training_returns</th>\n",
       "      <th>training_benchmark_returns</th>\n",
       "      <th>training_benchmark_std</th>\n",
       "      <th>returns</th>\n",
       "      <th>benchmark_returns</th>\n",
       "      <th>benchmark_std</th>\n",
       "      <th>ticker</th>\n",
       "    </tr>\n",
       "  </thead>\n",
       "  <tbody>\n",
       "    <tr>\n",
       "      <th>0</th>\n",
       "      <td>17</td>\n",
       "      <td>17</td>\n",
       "      <td>62</td>\n",
       "      <td>62</td>\n",
       "      <td>0.0167</td>\n",
       "      <td>0.000033</td>\n",
       "      <td>-0.000639</td>\n",
       "      <td>0.000311</td>\n",
       "      <td>0.018389</td>\n",
       "      <td>-0.000183</td>\n",
       "      <td>0.001296</td>\n",
       "      <td>0.017772</td>\n",
       "      <td>AAPL</td>\n",
       "    </tr>\n",
       "    <tr>\n",
       "      <th>1</th>\n",
       "      <td>19</td>\n",
       "      <td>19</td>\n",
       "      <td>62</td>\n",
       "      <td>65</td>\n",
       "      <td>0.0167</td>\n",
       "      <td>0.000033</td>\n",
       "      <td>0.001930</td>\n",
       "      <td>0.001656</td>\n",
       "      <td>0.015622</td>\n",
       "      <td>0.000567</td>\n",
       "      <td>0.000828</td>\n",
       "      <td>0.017550</td>\n",
       "      <td>ABBV</td>\n",
       "    </tr>\n",
       "    <tr>\n",
       "      <th>2</th>\n",
       "      <td>19</td>\n",
       "      <td>17</td>\n",
       "      <td>62</td>\n",
       "      <td>62</td>\n",
       "      <td>0.0167</td>\n",
       "      <td>0.000033</td>\n",
       "      <td>0.000718</td>\n",
       "      <td>0.000885</td>\n",
       "      <td>0.011031</td>\n",
       "      <td>0.000171</td>\n",
       "      <td>0.000732</td>\n",
       "      <td>0.014804</td>\n",
       "      <td>ABT</td>\n",
       "    </tr>\n",
       "    <tr>\n",
       "      <th>3</th>\n",
       "      <td>17</td>\n",
       "      <td>17</td>\n",
       "      <td>65</td>\n",
       "      <td>62</td>\n",
       "      <td>0.0167</td>\n",
       "      <td>0.000033</td>\n",
       "      <td>0.000104</td>\n",
       "      <td>0.000902</td>\n",
       "      <td>0.013483</td>\n",
       "      <td>0.000129</td>\n",
       "      <td>0.000851</td>\n",
       "      <td>0.014729</td>\n",
       "      <td>ACN</td>\n",
       "    </tr>\n",
       "    <tr>\n",
       "      <th>4</th>\n",
       "      <td>17</td>\n",
       "      <td>17</td>\n",
       "      <td>62</td>\n",
       "      <td>62</td>\n",
       "      <td>0.0167</td>\n",
       "      <td>0.000033</td>\n",
       "      <td>0.003100</td>\n",
       "      <td>0.001603</td>\n",
       "      <td>0.015621</td>\n",
       "      <td>-0.000874</td>\n",
       "      <td>0.001111</td>\n",
       "      <td>0.019201</td>\n",
       "      <td>ADBE</td>\n",
       "    </tr>\n",
       "    <tr>\n",
       "      <th>...</th>\n",
       "      <td>...</td>\n",
       "      <td>...</td>\n",
       "      <td>...</td>\n",
       "      <td>...</td>\n",
       "      <td>...</td>\n",
       "      <td>...</td>\n",
       "      <td>...</td>\n",
       "      <td>...</td>\n",
       "      <td>...</td>\n",
       "      <td>...</td>\n",
       "      <td>...</td>\n",
       "      <td>...</td>\n",
       "      <td>...</td>\n",
       "    </tr>\n",
       "    <tr>\n",
       "      <th>91</th>\n",
       "      <td>17</td>\n",
       "      <td>17</td>\n",
       "      <td>65</td>\n",
       "      <td>62</td>\n",
       "      <td>0.0167</td>\n",
       "      <td>0.000033</td>\n",
       "      <td>0.001946</td>\n",
       "      <td>0.001458</td>\n",
       "      <td>0.013354</td>\n",
       "      <td>0.000430</td>\n",
       "      <td>0.000838</td>\n",
       "      <td>0.015808</td>\n",
       "      <td>V</td>\n",
       "    </tr>\n",
       "    <tr>\n",
       "      <th>92</th>\n",
       "      <td>19</td>\n",
       "      <td>19</td>\n",
       "      <td>65</td>\n",
       "      <td>62</td>\n",
       "      <td>0.0167</td>\n",
       "      <td>0.000033</td>\n",
       "      <td>-0.000020</td>\n",
       "      <td>0.000676</td>\n",
       "      <td>0.010289</td>\n",
       "      <td>0.000260</td>\n",
       "      <td>0.000295</td>\n",
       "      <td>0.011065</td>\n",
       "      <td>VZ</td>\n",
       "    </tr>\n",
       "    <tr>\n",
       "      <th>93</th>\n",
       "      <td>17</td>\n",
       "      <td>19</td>\n",
       "      <td>65</td>\n",
       "      <td>65</td>\n",
       "      <td>0.0167</td>\n",
       "      <td>0.000033</td>\n",
       "      <td>0.000983</td>\n",
       "      <td>0.000956</td>\n",
       "      <td>0.011669</td>\n",
       "      <td>-0.001491</td>\n",
       "      <td>0.000398</td>\n",
       "      <td>0.019187</td>\n",
       "      <td>WFC</td>\n",
       "    </tr>\n",
       "    <tr>\n",
       "      <th>94</th>\n",
       "      <td>17</td>\n",
       "      <td>19</td>\n",
       "      <td>62</td>\n",
       "      <td>65</td>\n",
       "      <td>0.0167</td>\n",
       "      <td>0.000033</td>\n",
       "      <td>0.000226</td>\n",
       "      <td>0.000540</td>\n",
       "      <td>0.009054</td>\n",
       "      <td>0.000340</td>\n",
       "      <td>0.000487</td>\n",
       "      <td>0.012966</td>\n",
       "      <td>WMT</td>\n",
       "    </tr>\n",
       "    <tr>\n",
       "      <th>95</th>\n",
       "      <td>19</td>\n",
       "      <td>19</td>\n",
       "      <td>62</td>\n",
       "      <td>62</td>\n",
       "      <td>0.0167</td>\n",
       "      <td>0.000033</td>\n",
       "      <td>0.000360</td>\n",
       "      <td>0.000340</td>\n",
       "      <td>0.009035</td>\n",
       "      <td>-0.001815</td>\n",
       "      <td>0.000221</td>\n",
       "      <td>0.017038</td>\n",
       "      <td>XOM</td>\n",
       "    </tr>\n",
       "  </tbody>\n",
       "</table>\n",
       "<p>82 rows × 13 columns</p>\n",
       "</div>"
      ],
      "text/plain": [
       "    upper_short  lower_short  upper_long  lower_long  upper_p   lower_p  \\\n",
       "0            17           17          62          62   0.0167  0.000033   \n",
       "1            19           19          62          65   0.0167  0.000033   \n",
       "2            19           17          62          62   0.0167  0.000033   \n",
       "3            17           17          65          62   0.0167  0.000033   \n",
       "4            17           17          62          62   0.0167  0.000033   \n",
       "..          ...          ...         ...         ...      ...       ...   \n",
       "91           17           17          65          62   0.0167  0.000033   \n",
       "92           19           19          65          62   0.0167  0.000033   \n",
       "93           17           19          65          65   0.0167  0.000033   \n",
       "94           17           19          62          65   0.0167  0.000033   \n",
       "95           19           19          62          62   0.0167  0.000033   \n",
       "\n",
       "    training_returns  training_benchmark_returns  training_benchmark_std  \\\n",
       "0          -0.000639                    0.000311                0.018389   \n",
       "1           0.001930                    0.001656                0.015622   \n",
       "2           0.000718                    0.000885                0.011031   \n",
       "3           0.000104                    0.000902                0.013483   \n",
       "4           0.003100                    0.001603                0.015621   \n",
       "..               ...                         ...                     ...   \n",
       "91          0.001946                    0.001458                0.013354   \n",
       "92         -0.000020                    0.000676                0.010289   \n",
       "93          0.000983                    0.000956                0.011669   \n",
       "94          0.000226                    0.000540                0.009054   \n",
       "95          0.000360                    0.000340                0.009035   \n",
       "\n",
       "     returns  benchmark_returns  benchmark_std ticker  \n",
       "0  -0.000183           0.001296       0.017772   AAPL  \n",
       "1   0.000567           0.000828       0.017550   ABBV  \n",
       "2   0.000171           0.000732       0.014804    ABT  \n",
       "3   0.000129           0.000851       0.014729    ACN  \n",
       "4  -0.000874           0.001111       0.019201   ADBE  \n",
       "..       ...                ...            ...    ...  \n",
       "91  0.000430           0.000838       0.015808      V  \n",
       "92  0.000260           0.000295       0.011065     VZ  \n",
       "93 -0.001491           0.000398       0.019187    WFC  \n",
       "94  0.000340           0.000487       0.012966    WMT  \n",
       "95 -0.001815           0.000221       0.017038    XOM  \n",
       "\n",
       "[82 rows x 13 columns]"
      ]
     },
     "execution_count": 80,
     "metadata": {},
     "output_type": "execute_result"
    }
   ],
   "source": [
    "simRes=pd.read_csv('simpleParamsResults.csv')\n",
    "simRes.drop('Unnamed: 0',axis='columns',inplace=True)\n",
    "simRes.dropna(inplace=True)\n",
    "simRes"
   ]
  },
  {
   "cell_type": "code",
   "execution_count": 81,
   "id": "acting-constitutional",
   "metadata": {},
   "outputs": [
    {
     "data": {
      "text/plain": [
       "(-0.000508639761096512, -0.00010137657256659814)"
      ]
     },
     "execution_count": 81,
     "metadata": {},
     "output_type": "execute_result"
    }
   ],
   "source": [
    "confidenceInterval(simRes.returns,.05)"
   ]
  },
  {
   "cell_type": "code",
   "execution_count": 82,
   "id": "white-arlington",
   "metadata": {},
   "outputs": [
    {
     "data": {
      "text/plain": [
       "0.6097560975609756"
      ]
     },
     "execution_count": 82,
     "metadata": {},
     "output_type": "execute_result"
    }
   ],
   "source": [
    "len(simRes[simRes.training_returns>simRes.training_benchmark_returns])/len(simRes)"
   ]
  },
  {
   "cell_type": "code",
   "execution_count": 83,
   "id": "authentic-naples",
   "metadata": {},
   "outputs": [
    {
     "data": {
      "text/plain": [
       "0.08536585365853659"
      ]
     },
     "execution_count": 83,
     "metadata": {},
     "output_type": "execute_result"
    }
   ],
   "source": [
    "len(simRes[simRes.returns>simRes.benchmark_returns])/len(simRes)"
   ]
  },
  {
   "cell_type": "code",
   "execution_count": 85,
   "id": "dominant-offense",
   "metadata": {},
   "outputs": [],
   "source": [
    "import strategy as s\n",
    "\n",
    "data=pd.read_csv('large_cap.csv')\n",
    "ls,us=s.getSignals(data['AAPL'].pct_change(),[12,15,17],[60,65,70],[.01,.02,.03],[.01,.02,.03])"
   ]
  }
 ],
 "metadata": {
  "kernelspec": {
   "display_name": "Python 3",
   "language": "python",
   "name": "python3"
  },
  "language_info": {
   "codemirror_mode": {
    "name": "ipython",
    "version": 3
   },
   "file_extension": ".py",
   "mimetype": "text/x-python",
   "name": "python",
   "nbconvert_exporter": "python",
   "pygments_lexer": "ipython3",
   "version": "3.6.4"
  }
 },
 "nbformat": 4,
 "nbformat_minor": 5
}
