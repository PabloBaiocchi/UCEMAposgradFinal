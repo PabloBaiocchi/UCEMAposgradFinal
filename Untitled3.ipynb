{
 "cells": [
  {
   "cell_type": "code",
   "execution_count": 6,
   "id": "amazing-relative",
   "metadata": {},
   "outputs": [
    {
     "data": {
      "text/html": [
       "<div>\n",
       "<style scoped>\n",
       "    .dataframe tbody tr th:only-of-type {\n",
       "        vertical-align: middle;\n",
       "    }\n",
       "\n",
       "    .dataframe tbody tr th {\n",
       "        vertical-align: top;\n",
       "    }\n",
       "\n",
       "    .dataframe thead th {\n",
       "        text-align: right;\n",
       "    }\n",
       "</style>\n",
       "<table border=\"1\" class=\"dataframe\">\n",
       "  <thead>\n",
       "    <tr style=\"text-align: right;\">\n",
       "      <th></th>\n",
       "      <th>upper_short</th>\n",
       "      <th>lower_short</th>\n",
       "      <th>upper_long</th>\n",
       "      <th>lower_long</th>\n",
       "      <th>upper_p</th>\n",
       "      <th>lower_p</th>\n",
       "      <th>training_returns</th>\n",
       "      <th>training_benchmark_returns</th>\n",
       "      <th>training_benchmark_std</th>\n",
       "      <th>returns</th>\n",
       "      <th>benchmark_returns</th>\n",
       "      <th>benchmark_std</th>\n",
       "      <th>ticker</th>\n",
       "    </tr>\n",
       "  </thead>\n",
       "  <tbody>\n",
       "    <tr>\n",
       "      <th>0</th>\n",
       "      <td>11</td>\n",
       "      <td>19</td>\n",
       "      <td>60</td>\n",
       "      <td>70</td>\n",
       "      <td>1.250000e-02</td>\n",
       "      <td>1.000000e-08</td>\n",
       "      <td>-0.002961</td>\n",
       "      <td>0.000311</td>\n",
       "      <td>0.018389</td>\n",
       "      <td>-0.002231</td>\n",
       "      <td>0.001296</td>\n",
       "      <td>0.017772</td>\n",
       "      <td>AAPL</td>\n",
       "    </tr>\n",
       "    <tr>\n",
       "      <th>1</th>\n",
       "      <td>11</td>\n",
       "      <td>35</td>\n",
       "      <td>80</td>\n",
       "      <td>90</td>\n",
       "      <td>2.500000e-02</td>\n",
       "      <td>1.000000e-02</td>\n",
       "      <td>0.002295</td>\n",
       "      <td>0.001656</td>\n",
       "      <td>0.015622</td>\n",
       "      <td>-0.001201</td>\n",
       "      <td>0.000828</td>\n",
       "      <td>0.017550</td>\n",
       "      <td>ABBV</td>\n",
       "    </tr>\n",
       "    <tr>\n",
       "      <th>2</th>\n",
       "      <td>35</td>\n",
       "      <td>27</td>\n",
       "      <td>60</td>\n",
       "      <td>70</td>\n",
       "      <td>1.250000e-02</td>\n",
       "      <td>1.000000e-08</td>\n",
       "      <td>0.000450</td>\n",
       "      <td>0.000885</td>\n",
       "      <td>0.011031</td>\n",
       "      <td>0.003146</td>\n",
       "      <td>0.000732</td>\n",
       "      <td>0.014804</td>\n",
       "      <td>ABT</td>\n",
       "    </tr>\n",
       "    <tr>\n",
       "      <th>3</th>\n",
       "      <td>11</td>\n",
       "      <td>11</td>\n",
       "      <td>70</td>\n",
       "      <td>50</td>\n",
       "      <td>1.875000e-02</td>\n",
       "      <td>1.000000e-08</td>\n",
       "      <td>-0.000042</td>\n",
       "      <td>0.000902</td>\n",
       "      <td>0.013483</td>\n",
       "      <td>-0.002613</td>\n",
       "      <td>0.000851</td>\n",
       "      <td>0.014729</td>\n",
       "      <td>ACN</td>\n",
       "    </tr>\n",
       "    <tr>\n",
       "      <th>4</th>\n",
       "      <td>3</td>\n",
       "      <td>35</td>\n",
       "      <td>90</td>\n",
       "      <td>60</td>\n",
       "      <td>1.000000e-08</td>\n",
       "      <td>2.500008e-03</td>\n",
       "      <td>0.001655</td>\n",
       "      <td>0.001603</td>\n",
       "      <td>0.015621</td>\n",
       "      <td>0.001382</td>\n",
       "      <td>0.001111</td>\n",
       "      <td>0.019201</td>\n",
       "      <td>ADBE</td>\n",
       "    </tr>\n",
       "    <tr>\n",
       "      <th>...</th>\n",
       "      <td>...</td>\n",
       "      <td>...</td>\n",
       "      <td>...</td>\n",
       "      <td>...</td>\n",
       "      <td>...</td>\n",
       "      <td>...</td>\n",
       "      <td>...</td>\n",
       "      <td>...</td>\n",
       "      <td>...</td>\n",
       "      <td>...</td>\n",
       "      <td>...</td>\n",
       "      <td>...</td>\n",
       "      <td>...</td>\n",
       "    </tr>\n",
       "    <tr>\n",
       "      <th>91</th>\n",
       "      <td>3</td>\n",
       "      <td>11</td>\n",
       "      <td>90</td>\n",
       "      <td>80</td>\n",
       "      <td>1.000000e-08</td>\n",
       "      <td>1.000000e-08</td>\n",
       "      <td>0.003055</td>\n",
       "      <td>0.001458</td>\n",
       "      <td>0.013354</td>\n",
       "      <td>-0.003149</td>\n",
       "      <td>0.000838</td>\n",
       "      <td>0.015808</td>\n",
       "      <td>V</td>\n",
       "    </tr>\n",
       "    <tr>\n",
       "      <th>92</th>\n",
       "      <td>3</td>\n",
       "      <td>27</td>\n",
       "      <td>70</td>\n",
       "      <td>70</td>\n",
       "      <td>1.000000e-08</td>\n",
       "      <td>1.000000e-08</td>\n",
       "      <td>-0.000071</td>\n",
       "      <td>0.000676</td>\n",
       "      <td>0.010289</td>\n",
       "      <td>NaN</td>\n",
       "      <td>0.000295</td>\n",
       "      <td>0.011065</td>\n",
       "      <td>VZ</td>\n",
       "    </tr>\n",
       "    <tr>\n",
       "      <th>93</th>\n",
       "      <td>3</td>\n",
       "      <td>35</td>\n",
       "      <td>90</td>\n",
       "      <td>60</td>\n",
       "      <td>1.000000e-08</td>\n",
       "      <td>2.500008e-03</td>\n",
       "      <td>0.001293</td>\n",
       "      <td>0.000956</td>\n",
       "      <td>0.011669</td>\n",
       "      <td>-0.003845</td>\n",
       "      <td>0.000398</td>\n",
       "      <td>0.019187</td>\n",
       "      <td>WFC</td>\n",
       "    </tr>\n",
       "    <tr>\n",
       "      <th>94</th>\n",
       "      <td>11</td>\n",
       "      <td>19</td>\n",
       "      <td>60</td>\n",
       "      <td>80</td>\n",
       "      <td>1.875000e-02</td>\n",
       "      <td>1.000000e-08</td>\n",
       "      <td>-0.000430</td>\n",
       "      <td>0.000540</td>\n",
       "      <td>0.009054</td>\n",
       "      <td>-0.000795</td>\n",
       "      <td>0.000487</td>\n",
       "      <td>0.012966</td>\n",
       "      <td>WMT</td>\n",
       "    </tr>\n",
       "    <tr>\n",
       "      <th>95</th>\n",
       "      <td>11</td>\n",
       "      <td>27</td>\n",
       "      <td>50</td>\n",
       "      <td>80</td>\n",
       "      <td>2.500000e-02</td>\n",
       "      <td>1.000000e-08</td>\n",
       "      <td>0.000874</td>\n",
       "      <td>0.000340</td>\n",
       "      <td>0.009035</td>\n",
       "      <td>-0.003750</td>\n",
       "      <td>0.000221</td>\n",
       "      <td>0.017038</td>\n",
       "      <td>XOM</td>\n",
       "    </tr>\n",
       "  </tbody>\n",
       "</table>\n",
       "<p>96 rows × 13 columns</p>\n",
       "</div>"
      ],
      "text/plain": [
       "    upper_short  lower_short  upper_long  lower_long       upper_p  \\\n",
       "0            11           19          60          70  1.250000e-02   \n",
       "1            11           35          80          90  2.500000e-02   \n",
       "2            35           27          60          70  1.250000e-02   \n",
       "3            11           11          70          50  1.875000e-02   \n",
       "4             3           35          90          60  1.000000e-08   \n",
       "..          ...          ...         ...         ...           ...   \n",
       "91            3           11          90          80  1.000000e-08   \n",
       "92            3           27          70          70  1.000000e-08   \n",
       "93            3           35          90          60  1.000000e-08   \n",
       "94           11           19          60          80  1.875000e-02   \n",
       "95           11           27          50          80  2.500000e-02   \n",
       "\n",
       "         lower_p  training_returns  training_benchmark_returns  \\\n",
       "0   1.000000e-08         -0.002961                    0.000311   \n",
       "1   1.000000e-02          0.002295                    0.001656   \n",
       "2   1.000000e-08          0.000450                    0.000885   \n",
       "3   1.000000e-08         -0.000042                    0.000902   \n",
       "4   2.500008e-03          0.001655                    0.001603   \n",
       "..           ...               ...                         ...   \n",
       "91  1.000000e-08          0.003055                    0.001458   \n",
       "92  1.000000e-08         -0.000071                    0.000676   \n",
       "93  2.500008e-03          0.001293                    0.000956   \n",
       "94  1.000000e-08         -0.000430                    0.000540   \n",
       "95  1.000000e-08          0.000874                    0.000340   \n",
       "\n",
       "    training_benchmark_std   returns  benchmark_returns  benchmark_std ticker  \n",
       "0                 0.018389 -0.002231           0.001296       0.017772   AAPL  \n",
       "1                 0.015622 -0.001201           0.000828       0.017550   ABBV  \n",
       "2                 0.011031  0.003146           0.000732       0.014804    ABT  \n",
       "3                 0.013483 -0.002613           0.000851       0.014729    ACN  \n",
       "4                 0.015621  0.001382           0.001111       0.019201   ADBE  \n",
       "..                     ...       ...                ...            ...    ...  \n",
       "91                0.013354 -0.003149           0.000838       0.015808      V  \n",
       "92                0.010289       NaN           0.000295       0.011065     VZ  \n",
       "93                0.011669 -0.003845           0.000398       0.019187    WFC  \n",
       "94                0.009054 -0.000795           0.000487       0.012966    WMT  \n",
       "95                0.009035 -0.003750           0.000221       0.017038    XOM  \n",
       "\n",
       "[96 rows x 13 columns]"
      ]
     },
     "execution_count": 6,
     "metadata": {},
     "output_type": "execute_result"
    }
   ],
   "source": [
    "import pandas as pd\n",
    "\n",
    "res=pd.read_csv('overnight.csv')\n",
    "res.drop('Unnamed: 0',axis='columns',inplace=True)\n",
    "res"
   ]
  },
  {
   "cell_type": "code",
   "execution_count": 11,
   "id": "interested-lindsay",
   "metadata": {},
   "outputs": [],
   "source": [
    "res.dropna(inplace=True)"
   ]
  },
  {
   "cell_type": "code",
   "execution_count": 19,
   "id": "adjusted-experience",
   "metadata": {},
   "outputs": [],
   "source": [
    "import scipy.stats as stats"
   ]
  },
  {
   "cell_type": "code",
   "execution_count": 22,
   "id": "plain-depression",
   "metadata": {},
   "outputs": [],
   "source": [
    "def confidenceInterval(series,alpha):\n",
    "    u=series.mean()\n",
    "    s=series.std()\n",
    "    n=len(series)\n",
    "    t=stats.t.ppf(1-alpha/2,n-1)\n",
    "    e=s*t/n**.5\n",
    "    return (u-e,u+e)"
   ]
  },
  {
   "cell_type": "code",
   "execution_count": 23,
   "id": "substantial-enforcement",
   "metadata": {},
   "outputs": [
    {
     "data": {
      "text/plain": [
       "(-0.002351133448386035, -0.0012461369083872427)"
      ]
     },
     "execution_count": 23,
     "metadata": {},
     "output_type": "execute_result"
    }
   ],
   "source": [
    "confidenceInterval(res.returns,.05)"
   ]
  },
  {
   "cell_type": "code",
   "execution_count": 24,
   "id": "resistant-microwave",
   "metadata": {},
   "outputs": [
    {
     "data": {
      "text/plain": [
       "(0.0006590608737256434, 0.0008392822714722208)"
      ]
     },
     "execution_count": 24,
     "metadata": {},
     "output_type": "execute_result"
    }
   ],
   "source": [
    "confidenceInterval(res.benchmark_returns,.05)"
   ]
  },
  {
   "cell_type": "code",
   "execution_count": 27,
   "id": "early-syndicate",
   "metadata": {},
   "outputs": [
    {
     "data": {
      "text/plain": [
       "(0.0007905748367503768, 0.0014713575932283783)"
      ]
     },
     "execution_count": 27,
     "metadata": {},
     "output_type": "execute_result"
    }
   ],
   "source": [
    "confidenceInterval(res.training_returns,.05)"
   ]
  },
  {
   "cell_type": "code",
   "execution_count": 28,
   "id": "amateur-acrylic",
   "metadata": {},
   "outputs": [
    {
     "data": {
      "text/plain": [
       "(0.0007842217008750613, 0.0010857390658428419)"
      ]
     },
     "execution_count": 28,
     "metadata": {},
     "output_type": "execute_result"
    }
   ],
   "source": [
    "confidenceInterval(res.training_benchmark_returns,.05)"
   ]
  },
  {
   "cell_type": "code",
   "execution_count": 29,
   "id": "bronze-techno",
   "metadata": {},
   "outputs": [
    {
     "data": {
      "text/plain": [
       "0.5955056179775281"
      ]
     },
     "execution_count": 29,
     "metadata": {},
     "output_type": "execute_result"
    }
   ],
   "source": [
    "len(res[res.training_returns>res.training_benchmark_returns])/len(res)"
   ]
  },
  {
   "cell_type": "code",
   "execution_count": 30,
   "id": "dietary-marijuana",
   "metadata": {},
   "outputs": [
    {
     "data": {
      "text/plain": [
       "0.10112359550561797"
      ]
     },
     "execution_count": 30,
     "metadata": {},
     "output_type": "execute_result"
    }
   ],
   "source": [
    "len(res[res.returns>res.benchmark_returns])/len(res)"
   ]
  },
  {
   "cell_type": "code",
   "execution_count": 40,
   "id": "greater-drive",
   "metadata": {},
   "outputs": [
    {
     "data": {
      "text/html": [
       "<div>\n",
       "<style scoped>\n",
       "    .dataframe tbody tr th:only-of-type {\n",
       "        vertical-align: middle;\n",
       "    }\n",
       "\n",
       "    .dataframe tbody tr th {\n",
       "        vertical-align: top;\n",
       "    }\n",
       "\n",
       "    .dataframe thead th {\n",
       "        text-align: right;\n",
       "    }\n",
       "</style>\n",
       "<table border=\"1\" class=\"dataframe\">\n",
       "  <thead>\n",
       "    <tr style=\"text-align: right;\">\n",
       "      <th></th>\n",
       "      <th>upper_short</th>\n",
       "      <th>lower_short</th>\n",
       "      <th>upper_long</th>\n",
       "      <th>lower_long</th>\n",
       "      <th>upper_p</th>\n",
       "      <th>lower_p</th>\n",
       "      <th>training_returns</th>\n",
       "      <th>training_benchmark_returns</th>\n",
       "      <th>training_benchmark_std</th>\n",
       "      <th>returns</th>\n",
       "      <th>benchmark_returns</th>\n",
       "      <th>benchmark_std</th>\n",
       "      <th>ticker</th>\n",
       "    </tr>\n",
       "  </thead>\n",
       "  <tbody>\n",
       "    <tr>\n",
       "      <th>0</th>\n",
       "      <td>10</td>\n",
       "      <td>25</td>\n",
       "      <td>56</td>\n",
       "      <td>56</td>\n",
       "      <td>0.000100</td>\n",
       "      <td>0.01255</td>\n",
       "      <td>-0.000379</td>\n",
       "      <td>0.000311</td>\n",
       "      <td>0.018389</td>\n",
       "      <td>0.000647</td>\n",
       "      <td>0.001296</td>\n",
       "      <td>0.017772</td>\n",
       "      <td>AAPL</td>\n",
       "    </tr>\n",
       "    <tr>\n",
       "      <th>1</th>\n",
       "      <td>25</td>\n",
       "      <td>25</td>\n",
       "      <td>75</td>\n",
       "      <td>50</td>\n",
       "      <td>0.000100</td>\n",
       "      <td>0.00010</td>\n",
       "      <td>0.000975</td>\n",
       "      <td>0.001656</td>\n",
       "      <td>0.015622</td>\n",
       "      <td>0.000908</td>\n",
       "      <td>0.000828</td>\n",
       "      <td>0.017550</td>\n",
       "      <td>ABBV</td>\n",
       "    </tr>\n",
       "    <tr>\n",
       "      <th>2</th>\n",
       "      <td>10</td>\n",
       "      <td>21</td>\n",
       "      <td>75</td>\n",
       "      <td>50</td>\n",
       "      <td>0.000075</td>\n",
       "      <td>0.00010</td>\n",
       "      <td>0.000872</td>\n",
       "      <td>0.000885</td>\n",
       "      <td>0.011031</td>\n",
       "      <td>-0.000021</td>\n",
       "      <td>0.000732</td>\n",
       "      <td>0.014804</td>\n",
       "      <td>ABT</td>\n",
       "    </tr>\n",
       "    <tr>\n",
       "      <th>3</th>\n",
       "      <td>10</td>\n",
       "      <td>17</td>\n",
       "      <td>68</td>\n",
       "      <td>56</td>\n",
       "      <td>0.000050</td>\n",
       "      <td>0.00010</td>\n",
       "      <td>0.000943</td>\n",
       "      <td>0.000902</td>\n",
       "      <td>0.013483</td>\n",
       "      <td>0.000365</td>\n",
       "      <td>0.000851</td>\n",
       "      <td>0.014729</td>\n",
       "      <td>ACN</td>\n",
       "    </tr>\n",
       "    <tr>\n",
       "      <th>4</th>\n",
       "      <td>13</td>\n",
       "      <td>25</td>\n",
       "      <td>62</td>\n",
       "      <td>68</td>\n",
       "      <td>0.000075</td>\n",
       "      <td>0.00010</td>\n",
       "      <td>0.001434</td>\n",
       "      <td>0.001603</td>\n",
       "      <td>0.015621</td>\n",
       "      <td>0.001472</td>\n",
       "      <td>0.001111</td>\n",
       "      <td>0.019201</td>\n",
       "      <td>ADBE</td>\n",
       "    </tr>\n",
       "    <tr>\n",
       "      <th>...</th>\n",
       "      <td>...</td>\n",
       "      <td>...</td>\n",
       "      <td>...</td>\n",
       "      <td>...</td>\n",
       "      <td>...</td>\n",
       "      <td>...</td>\n",
       "      <td>...</td>\n",
       "      <td>...</td>\n",
       "      <td>...</td>\n",
       "      <td>...</td>\n",
       "      <td>...</td>\n",
       "      <td>...</td>\n",
       "      <td>...</td>\n",
       "    </tr>\n",
       "    <tr>\n",
       "      <th>91</th>\n",
       "      <td>13</td>\n",
       "      <td>25</td>\n",
       "      <td>62</td>\n",
       "      <td>68</td>\n",
       "      <td>0.000075</td>\n",
       "      <td>0.00010</td>\n",
       "      <td>0.001519</td>\n",
       "      <td>0.001458</td>\n",
       "      <td>0.013354</td>\n",
       "      <td>0.000173</td>\n",
       "      <td>0.000838</td>\n",
       "      <td>0.015808</td>\n",
       "      <td>V</td>\n",
       "    </tr>\n",
       "    <tr>\n",
       "      <th>92</th>\n",
       "      <td>17</td>\n",
       "      <td>21</td>\n",
       "      <td>75</td>\n",
       "      <td>75</td>\n",
       "      <td>0.000025</td>\n",
       "      <td>0.01255</td>\n",
       "      <td>0.000171</td>\n",
       "      <td>0.000676</td>\n",
       "      <td>0.010289</td>\n",
       "      <td>0.000147</td>\n",
       "      <td>0.000295</td>\n",
       "      <td>0.011065</td>\n",
       "      <td>VZ</td>\n",
       "    </tr>\n",
       "    <tr>\n",
       "      <th>93</th>\n",
       "      <td>10</td>\n",
       "      <td>13</td>\n",
       "      <td>62</td>\n",
       "      <td>50</td>\n",
       "      <td>0.000050</td>\n",
       "      <td>0.00010</td>\n",
       "      <td>0.001009</td>\n",
       "      <td>0.000956</td>\n",
       "      <td>0.011669</td>\n",
       "      <td>0.000181</td>\n",
       "      <td>0.000398</td>\n",
       "      <td>0.019187</td>\n",
       "      <td>WFC</td>\n",
       "    </tr>\n",
       "    <tr>\n",
       "      <th>94</th>\n",
       "      <td>13</td>\n",
       "      <td>25</td>\n",
       "      <td>75</td>\n",
       "      <td>68</td>\n",
       "      <td>0.000100</td>\n",
       "      <td>0.00010</td>\n",
       "      <td>-0.000028</td>\n",
       "      <td>0.000540</td>\n",
       "      <td>0.009054</td>\n",
       "      <td>0.000408</td>\n",
       "      <td>0.000487</td>\n",
       "      <td>0.012966</td>\n",
       "      <td>WMT</td>\n",
       "    </tr>\n",
       "    <tr>\n",
       "      <th>95</th>\n",
       "      <td>17</td>\n",
       "      <td>25</td>\n",
       "      <td>68</td>\n",
       "      <td>50</td>\n",
       "      <td>0.000100</td>\n",
       "      <td>0.00010</td>\n",
       "      <td>0.000004</td>\n",
       "      <td>0.000340</td>\n",
       "      <td>0.009035</td>\n",
       "      <td>-0.000339</td>\n",
       "      <td>0.000221</td>\n",
       "      <td>0.017038</td>\n",
       "      <td>XOM</td>\n",
       "    </tr>\n",
       "  </tbody>\n",
       "</table>\n",
       "<p>96 rows × 13 columns</p>\n",
       "</div>"
      ],
      "text/plain": [
       "    upper_short  lower_short  upper_long  lower_long   upper_p  lower_p  \\\n",
       "0            10           25          56          56  0.000100  0.01255   \n",
       "1            25           25          75          50  0.000100  0.00010   \n",
       "2            10           21          75          50  0.000075  0.00010   \n",
       "3            10           17          68          56  0.000050  0.00010   \n",
       "4            13           25          62          68  0.000075  0.00010   \n",
       "..          ...          ...         ...         ...       ...      ...   \n",
       "91           13           25          62          68  0.000075  0.00010   \n",
       "92           17           21          75          75  0.000025  0.01255   \n",
       "93           10           13          62          50  0.000050  0.00010   \n",
       "94           13           25          75          68  0.000100  0.00010   \n",
       "95           17           25          68          50  0.000100  0.00010   \n",
       "\n",
       "    training_returns  training_benchmark_returns  training_benchmark_std  \\\n",
       "0          -0.000379                    0.000311                0.018389   \n",
       "1           0.000975                    0.001656                0.015622   \n",
       "2           0.000872                    0.000885                0.011031   \n",
       "3           0.000943                    0.000902                0.013483   \n",
       "4           0.001434                    0.001603                0.015621   \n",
       "..               ...                         ...                     ...   \n",
       "91          0.001519                    0.001458                0.013354   \n",
       "92          0.000171                    0.000676                0.010289   \n",
       "93          0.001009                    0.000956                0.011669   \n",
       "94         -0.000028                    0.000540                0.009054   \n",
       "95          0.000004                    0.000340                0.009035   \n",
       "\n",
       "     returns  benchmark_returns  benchmark_std ticker  \n",
       "0   0.000647           0.001296       0.017772   AAPL  \n",
       "1   0.000908           0.000828       0.017550   ABBV  \n",
       "2  -0.000021           0.000732       0.014804    ABT  \n",
       "3   0.000365           0.000851       0.014729    ACN  \n",
       "4   0.001472           0.001111       0.019201   ADBE  \n",
       "..       ...                ...            ...    ...  \n",
       "91  0.000173           0.000838       0.015808      V  \n",
       "92  0.000147           0.000295       0.011065     VZ  \n",
       "93  0.000181           0.000398       0.019187    WFC  \n",
       "94  0.000408           0.000487       0.012966    WMT  \n",
       "95 -0.000339           0.000221       0.017038    XOM  \n",
       "\n",
       "[96 rows x 13 columns]"
      ]
     },
     "execution_count": 40,
     "metadata": {},
     "output_type": "execute_result"
    }
   ],
   "source": [
    "res=pd.read_csv('largeCapeTwoSidedResults.csv')\n",
    "res.drop('Unnamed: 0',axis='columns',inplace=True)\n",
    "res"
   ]
  },
  {
   "cell_type": "code",
   "execution_count": 41,
   "id": "equal-fantasy",
   "metadata": {},
   "outputs": [],
   "source": [
    "res.dropna(inplace=True)"
   ]
  },
  {
   "cell_type": "code",
   "execution_count": 42,
   "id": "musical-brighton",
   "metadata": {},
   "outputs": [
    {
     "data": {
      "text/plain": [
       "(-8.598464233847613e-05, 0.0002790560564242077)"
      ]
     },
     "execution_count": 42,
     "metadata": {},
     "output_type": "execute_result"
    }
   ],
   "source": [
    "confidenceInterval(res.returns,.05)"
   ]
  },
  {
   "cell_type": "code",
   "execution_count": 43,
   "id": "genuine-jacksonville",
   "metadata": {},
   "outputs": [
    {
     "data": {
      "text/plain": [
       "(0.000656923834790154, 0.0008304949827483353)"
      ]
     },
     "execution_count": 43,
     "metadata": {},
     "output_type": "execute_result"
    }
   ],
   "source": [
    "confidenceInterval(res.benchmark_returns,.05)"
   ]
  },
  {
   "cell_type": "code",
   "execution_count": 44,
   "id": "impaired-friday",
   "metadata": {},
   "outputs": [
    {
     "data": {
      "text/plain": [
       "(0.000813735007329328, 0.0011544738422325437)"
      ]
     },
     "execution_count": 44,
     "metadata": {},
     "output_type": "execute_result"
    }
   ],
   "source": [
    "confidenceInterval(res.training_returns,.05)"
   ]
  },
  {
   "cell_type": "code",
   "execution_count": 45,
   "id": "optical-cuisine",
   "metadata": {},
   "outputs": [
    {
     "data": {
      "text/plain": [
       "(0.0007910918170861219, 0.001082423124195758)"
      ]
     },
     "execution_count": 45,
     "metadata": {},
     "output_type": "execute_result"
    }
   ],
   "source": [
    "confidenceInterval(res.training_benchmark_returns,.05)"
   ]
  },
  {
   "cell_type": "code",
   "execution_count": 46,
   "id": "monthly-latin",
   "metadata": {},
   "outputs": [
    {
     "data": {
      "text/plain": [
       "0.5376344086021505"
      ]
     },
     "execution_count": 46,
     "metadata": {},
     "output_type": "execute_result"
    }
   ],
   "source": [
    "len(res[res.training_returns>res.training_benchmark_returns])/len(res)"
   ]
  },
  {
   "cell_type": "code",
   "execution_count": 47,
   "id": "original-diabetes",
   "metadata": {},
   "outputs": [
    {
     "data": {
      "text/plain": [
       "0.13978494623655913"
      ]
     },
     "execution_count": 47,
     "metadata": {},
     "output_type": "execute_result"
    }
   ],
   "source": [
    "len(res[res.returns>res.benchmark_returns])/len(res)"
   ]
  },
  {
   "cell_type": "code",
   "execution_count": 49,
   "id": "described-consultation",
   "metadata": {},
   "outputs": [
    {
     "data": {
      "text/html": [
       "<div>\n",
       "<style scoped>\n",
       "    .dataframe tbody tr th:only-of-type {\n",
       "        vertical-align: middle;\n",
       "    }\n",
       "\n",
       "    .dataframe tbody tr th {\n",
       "        vertical-align: top;\n",
       "    }\n",
       "\n",
       "    .dataframe thead th {\n",
       "        text-align: right;\n",
       "    }\n",
       "</style>\n",
       "<table border=\"1\" class=\"dataframe\">\n",
       "  <thead>\n",
       "    <tr style=\"text-align: right;\">\n",
       "      <th></th>\n",
       "      <th>upper_short</th>\n",
       "      <th>lower_short</th>\n",
       "      <th>upper_long</th>\n",
       "      <th>lower_long</th>\n",
       "      <th>upper_p</th>\n",
       "      <th>lower_p</th>\n",
       "      <th>training_returns</th>\n",
       "      <th>training_benchmark_returns</th>\n",
       "      <th>training_benchmark_std</th>\n",
       "      <th>returns</th>\n",
       "      <th>benchmark_returns</th>\n",
       "      <th>benchmark_std</th>\n",
       "      <th>ticker</th>\n",
       "    </tr>\n",
       "  </thead>\n",
       "  <tbody>\n",
       "    <tr>\n",
       "      <th>1</th>\n",
       "      <td>25</td>\n",
       "      <td>25</td>\n",
       "      <td>75</td>\n",
       "      <td>50</td>\n",
       "      <td>1.000000e-04</td>\n",
       "      <td>0.0001</td>\n",
       "      <td>0.000975</td>\n",
       "      <td>0.001656</td>\n",
       "      <td>0.015622</td>\n",
       "      <td>0.000908</td>\n",
       "      <td>0.000828</td>\n",
       "      <td>0.017550</td>\n",
       "      <td>ABBV</td>\n",
       "    </tr>\n",
       "    <tr>\n",
       "      <th>4</th>\n",
       "      <td>13</td>\n",
       "      <td>25</td>\n",
       "      <td>62</td>\n",
       "      <td>68</td>\n",
       "      <td>7.500250e-05</td>\n",
       "      <td>0.0001</td>\n",
       "      <td>0.001434</td>\n",
       "      <td>0.001603</td>\n",
       "      <td>0.015621</td>\n",
       "      <td>0.001472</td>\n",
       "      <td>0.001111</td>\n",
       "      <td>0.019201</td>\n",
       "      <td>ADBE</td>\n",
       "    </tr>\n",
       "    <tr>\n",
       "      <th>6</th>\n",
       "      <td>13</td>\n",
       "      <td>21</td>\n",
       "      <td>68</td>\n",
       "      <td>56</td>\n",
       "      <td>2.500750e-05</td>\n",
       "      <td>0.0001</td>\n",
       "      <td>-0.000845</td>\n",
       "      <td>-0.000788</td>\n",
       "      <td>0.033377</td>\n",
       "      <td>0.002665</td>\n",
       "      <td>0.002381</td>\n",
       "      <td>0.037310</td>\n",
       "      <td>AMD</td>\n",
       "    </tr>\n",
       "    <tr>\n",
       "      <th>23</th>\n",
       "      <td>17</td>\n",
       "      <td>21</td>\n",
       "      <td>68</td>\n",
       "      <td>50</td>\n",
       "      <td>7.500250e-05</td>\n",
       "      <td>0.0001</td>\n",
       "      <td>0.000493</td>\n",
       "      <td>0.000851</td>\n",
       "      <td>0.009983</td>\n",
       "      <td>0.000909</td>\n",
       "      <td>0.000909</td>\n",
       "      <td>0.012573</td>\n",
       "      <td>COST</td>\n",
       "    </tr>\n",
       "    <tr>\n",
       "      <th>25</th>\n",
       "      <td>13</td>\n",
       "      <td>17</td>\n",
       "      <td>56</td>\n",
       "      <td>56</td>\n",
       "      <td>7.500250e-05</td>\n",
       "      <td>0.0001</td>\n",
       "      <td>0.000525</td>\n",
       "      <td>0.000417</td>\n",
       "      <td>0.016094</td>\n",
       "      <td>0.000864</td>\n",
       "      <td>0.000715</td>\n",
       "      <td>0.015728</td>\n",
       "      <td>CSCO</td>\n",
       "    </tr>\n",
       "    <tr>\n",
       "      <th>32</th>\n",
       "      <td>13</td>\n",
       "      <td>25</td>\n",
       "      <td>50</td>\n",
       "      <td>62</td>\n",
       "      <td>1.000000e-04</td>\n",
       "      <td>0.0001</td>\n",
       "      <td>0.001557</td>\n",
       "      <td>0.001920</td>\n",
       "      <td>0.033971</td>\n",
       "      <td>0.000766</td>\n",
       "      <td>0.000761</td>\n",
       "      <td>0.020863</td>\n",
       "      <td>FB</td>\n",
       "    </tr>\n",
       "    <tr>\n",
       "      <th>41</th>\n",
       "      <td>13</td>\n",
       "      <td>25</td>\n",
       "      <td>56</td>\n",
       "      <td>50</td>\n",
       "      <td>5.000500e-05</td>\n",
       "      <td>0.0001</td>\n",
       "      <td>0.000353</td>\n",
       "      <td>0.000051</td>\n",
       "      <td>0.013260</td>\n",
       "      <td>0.000681</td>\n",
       "      <td>0.000599</td>\n",
       "      <td>0.019570</td>\n",
       "      <td>INTC</td>\n",
       "    </tr>\n",
       "    <tr>\n",
       "      <th>44</th>\n",
       "      <td>21</td>\n",
       "      <td>25</td>\n",
       "      <td>75</td>\n",
       "      <td>68</td>\n",
       "      <td>7.500250e-05</td>\n",
       "      <td>0.0001</td>\n",
       "      <td>0.000875</td>\n",
       "      <td>0.000860</td>\n",
       "      <td>0.007516</td>\n",
       "      <td>0.000680</td>\n",
       "      <td>0.000460</td>\n",
       "      <td>0.011477</td>\n",
       "      <td>JNJ</td>\n",
       "    </tr>\n",
       "    <tr>\n",
       "      <th>55</th>\n",
       "      <td>10</td>\n",
       "      <td>25</td>\n",
       "      <td>56</td>\n",
       "      <td>56</td>\n",
       "      <td>1.000000e-04</td>\n",
       "      <td>0.0001</td>\n",
       "      <td>0.000843</td>\n",
       "      <td>0.000586</td>\n",
       "      <td>0.014426</td>\n",
       "      <td>0.001583</td>\n",
       "      <td>0.001219</td>\n",
       "      <td>0.016525</td>\n",
       "      <td>MSFT</td>\n",
       "    </tr>\n",
       "    <tr>\n",
       "      <th>63</th>\n",
       "      <td>10</td>\n",
       "      <td>21</td>\n",
       "      <td>75</td>\n",
       "      <td>50</td>\n",
       "      <td>1.000000e-04</td>\n",
       "      <td>0.0001</td>\n",
       "      <td>0.000743</td>\n",
       "      <td>0.000711</td>\n",
       "      <td>0.013770</td>\n",
       "      <td>0.001002</td>\n",
       "      <td>0.000519</td>\n",
       "      <td>0.015982</td>\n",
       "      <td>ORCL</td>\n",
       "    </tr>\n",
       "    <tr>\n",
       "      <th>70</th>\n",
       "      <td>10</td>\n",
       "      <td>25</td>\n",
       "      <td>75</td>\n",
       "      <td>62</td>\n",
       "      <td>2.500750e-05</td>\n",
       "      <td>0.0001</td>\n",
       "      <td>0.000833</td>\n",
       "      <td>0.000535</td>\n",
       "      <td>0.013106</td>\n",
       "      <td>0.001591</td>\n",
       "      <td>0.000752</td>\n",
       "      <td>0.021852</td>\n",
       "      <td>QCOM</td>\n",
       "    </tr>\n",
       "    <tr>\n",
       "      <th>82</th>\n",
       "      <td>21</td>\n",
       "      <td>25</td>\n",
       "      <td>75</td>\n",
       "      <td>56</td>\n",
       "      <td>7.500250e-05</td>\n",
       "      <td>0.0001</td>\n",
       "      <td>0.002260</td>\n",
       "      <td>0.001690</td>\n",
       "      <td>0.031467</td>\n",
       "      <td>0.001020</td>\n",
       "      <td>0.000836</td>\n",
       "      <td>0.017734</td>\n",
       "      <td>TMUS</td>\n",
       "    </tr>\n",
       "    <tr>\n",
       "      <th>83</th>\n",
       "      <td>21</td>\n",
       "      <td>17</td>\n",
       "      <td>62</td>\n",
       "      <td>62</td>\n",
       "      <td>1.000000e-08</td>\n",
       "      <td>0.0001</td>\n",
       "      <td>0.003445</td>\n",
       "      <td>0.004305</td>\n",
       "      <td>0.037906</td>\n",
       "      <td>0.002124</td>\n",
       "      <td>0.002084</td>\n",
       "      <td>0.034329</td>\n",
       "      <td>TSLA</td>\n",
       "    </tr>\n",
       "  </tbody>\n",
       "</table>\n",
       "</div>"
      ],
      "text/plain": [
       "    upper_short  lower_short  upper_long  lower_long       upper_p  lower_p  \\\n",
       "1            25           25          75          50  1.000000e-04   0.0001   \n",
       "4            13           25          62          68  7.500250e-05   0.0001   \n",
       "6            13           21          68          56  2.500750e-05   0.0001   \n",
       "23           17           21          68          50  7.500250e-05   0.0001   \n",
       "25           13           17          56          56  7.500250e-05   0.0001   \n",
       "32           13           25          50          62  1.000000e-04   0.0001   \n",
       "41           13           25          56          50  5.000500e-05   0.0001   \n",
       "44           21           25          75          68  7.500250e-05   0.0001   \n",
       "55           10           25          56          56  1.000000e-04   0.0001   \n",
       "63           10           21          75          50  1.000000e-04   0.0001   \n",
       "70           10           25          75          62  2.500750e-05   0.0001   \n",
       "82           21           25          75          56  7.500250e-05   0.0001   \n",
       "83           21           17          62          62  1.000000e-08   0.0001   \n",
       "\n",
       "    training_returns  training_benchmark_returns  training_benchmark_std  \\\n",
       "1           0.000975                    0.001656                0.015622   \n",
       "4           0.001434                    0.001603                0.015621   \n",
       "6          -0.000845                   -0.000788                0.033377   \n",
       "23          0.000493                    0.000851                0.009983   \n",
       "25          0.000525                    0.000417                0.016094   \n",
       "32          0.001557                    0.001920                0.033971   \n",
       "41          0.000353                    0.000051                0.013260   \n",
       "44          0.000875                    0.000860                0.007516   \n",
       "55          0.000843                    0.000586                0.014426   \n",
       "63          0.000743                    0.000711                0.013770   \n",
       "70          0.000833                    0.000535                0.013106   \n",
       "82          0.002260                    0.001690                0.031467   \n",
       "83          0.003445                    0.004305                0.037906   \n",
       "\n",
       "     returns  benchmark_returns  benchmark_std ticker  \n",
       "1   0.000908           0.000828       0.017550   ABBV  \n",
       "4   0.001472           0.001111       0.019201   ADBE  \n",
       "6   0.002665           0.002381       0.037310    AMD  \n",
       "23  0.000909           0.000909       0.012573   COST  \n",
       "25  0.000864           0.000715       0.015728   CSCO  \n",
       "32  0.000766           0.000761       0.020863     FB  \n",
       "41  0.000681           0.000599       0.019570   INTC  \n",
       "44  0.000680           0.000460       0.011477    JNJ  \n",
       "55  0.001583           0.001219       0.016525   MSFT  \n",
       "63  0.001002           0.000519       0.015982   ORCL  \n",
       "70  0.001591           0.000752       0.021852   QCOM  \n",
       "82  0.001020           0.000836       0.017734   TMUS  \n",
       "83  0.002124           0.002084       0.034329   TSLA  "
      ]
     },
     "execution_count": 49,
     "metadata": {},
     "output_type": "execute_result"
    }
   ],
   "source": [
    "winners=res[res.returns>res.benchmark_returns]\n",
    "winners"
   ]
  },
  {
   "cell_type": "code",
   "execution_count": 58,
   "id": "brilliant-outline",
   "metadata": {},
   "outputs": [
    {
     "data": {
      "text/plain": [
       "15.384615384615385"
      ]
     },
     "execution_count": 58,
     "metadata": {},
     "output_type": "execute_result"
    }
   ],
   "source": [
    "winners.upper_short.mean()"
   ]
  },
  {
   "cell_type": "code",
   "execution_count": 59,
   "id": "pleasant-topic",
   "metadata": {},
   "outputs": [
    {
     "data": {
      "text/plain": [
       "22.846153846153847"
      ]
     },
     "execution_count": 59,
     "metadata": {},
     "output_type": "execute_result"
    }
   ],
   "source": [
    "winners.lower_short.mean()"
   ]
  },
  {
   "cell_type": "code",
   "execution_count": 60,
   "id": "human-screen",
   "metadata": {},
   "outputs": [
    {
     "data": {
      "text/plain": [
       "65.61538461538461"
      ]
     },
     "execution_count": 60,
     "metadata": {},
     "output_type": "execute_result"
    }
   ],
   "source": [
    "winners.upper_long.mean()"
   ]
  },
  {
   "cell_type": "code",
   "execution_count": 61,
   "id": "existing-fountain",
   "metadata": {},
   "outputs": [
    {
     "data": {
      "text/plain": [
       "57.38461538461539"
      ]
     },
     "execution_count": 61,
     "metadata": {},
     "output_type": "execute_result"
    }
   ],
   "source": [
    "winners.lower_long.mean()"
   ]
  },
  {
   "cell_type": "code",
   "execution_count": 62,
   "id": "stuffed-casino",
   "metadata": {},
   "outputs": [
    {
     "data": {
      "text/plain": [
       "6.731096153846155e-05"
      ]
     },
     "execution_count": 62,
     "metadata": {},
     "output_type": "execute_result"
    }
   ],
   "source": [
    "winners.upper_p.mean()"
   ]
  },
  {
   "cell_type": "code",
   "execution_count": 63,
   "id": "growing-definition",
   "metadata": {},
   "outputs": [
    {
     "data": {
      "text/plain": [
       "0.00010000000000000002"
      ]
     },
     "execution_count": 63,
     "metadata": {},
     "output_type": "execute_result"
    }
   ],
   "source": [
    "winners.lower_p.mean()"
   ]
  }
 ],
 "metadata": {
  "kernelspec": {
   "display_name": "Python 3",
   "language": "python",
   "name": "python3"
  },
  "language_info": {
   "codemirror_mode": {
    "name": "ipython",
    "version": 3
   },
   "file_extension": ".py",
   "mimetype": "text/x-python",
   "name": "python",
   "nbconvert_exporter": "python",
   "pygments_lexer": "ipython3",
   "version": "3.6.4"
  }
 },
 "nbformat": 4,
 "nbformat_minor": 5
}
