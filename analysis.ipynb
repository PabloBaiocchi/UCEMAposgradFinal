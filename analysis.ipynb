{
 "cells": [
  {
   "cell_type": "code",
   "execution_count": 1,
   "id": "clean-tulsa",
   "metadata": {},
   "outputs": [],
   "source": [
    "import data\n",
    "import training"
   ]
  },
  {
   "cell_type": "code",
   "execution_count": 2,
   "id": "trained-hospital",
   "metadata": {},
   "outputs": [],
   "source": [
    "csvPath='/Users/pablo/Desktop/simpleSmaStrategy/priceData.csv'\n",
    "apiKey=''\n",
    "# only needs to be called once\n",
    "# data.storeData(csvPath,apiKey)"
   ]
  },
  {
   "cell_type": "code",
   "execution_count": 3,
   "id": "known-kitty",
   "metadata": {},
   "outputs": [],
   "source": [
    "import pandas as pd\n",
    "\n",
    "df=pd.read_csv(csvPath,index_col=0)"
   ]
  },
  {
   "cell_type": "code",
   "execution_count": 4,
   "id": "liberal-hanging",
   "metadata": {},
   "outputs": [],
   "source": [
    "trainingResults=training.train(df,.5,100000)"
   ]
  },
  {
   "cell_type": "code",
   "execution_count": 5,
   "id": "convertible-bronze",
   "metadata": {},
   "outputs": [],
   "source": [
    "summary=training.summarizeTraining(trainingResults,df)"
   ]
  },
  {
   "cell_type": "code",
   "execution_count": 6,
   "id": "brave-leave",
   "metadata": {},
   "outputs": [
    {
     "data": {
      "text/html": [
       "<div>\n",
       "<style scoped>\n",
       "    .dataframe tbody tr th:only-of-type {\n",
       "        vertical-align: middle;\n",
       "    }\n",
       "\n",
       "    .dataframe tbody tr th {\n",
       "        vertical-align: top;\n",
       "    }\n",
       "\n",
       "    .dataframe thead th {\n",
       "        text-align: right;\n",
       "    }\n",
       "</style>\n",
       "<table border=\"1\" class=\"dataframe\">\n",
       "  <thead>\n",
       "    <tr style=\"text-align: right;\">\n",
       "      <th></th>\n",
       "      <th>short_sma</th>\n",
       "      <th>long_sma</th>\n",
       "      <th>percent_short</th>\n",
       "      <th>annualized_return</th>\n",
       "      <th>annualized_volatility</th>\n",
       "      <th>sharpe</th>\n",
       "    </tr>\n",
       "  </thead>\n",
       "  <tbody>\n",
       "    <tr>\n",
       "      <th>17</th>\n",
       "      <td>5</td>\n",
       "      <td>25</td>\n",
       "      <td>0.9</td>\n",
       "      <td>2.320048</td>\n",
       "      <td>0.872952</td>\n",
       "      <td>2.657702</td>\n",
       "    </tr>\n",
       "    <tr>\n",
       "      <th>422</th>\n",
       "      <td>15</td>\n",
       "      <td>25</td>\n",
       "      <td>0.9</td>\n",
       "      <td>2.300259</td>\n",
       "      <td>0.875585</td>\n",
       "      <td>2.627110</td>\n",
       "    </tr>\n",
       "    <tr>\n",
       "      <th>8</th>\n",
       "      <td>5</td>\n",
       "      <td>20</td>\n",
       "      <td>0.9</td>\n",
       "      <td>2.247043</td>\n",
       "      <td>0.873057</td>\n",
       "      <td>2.573765</td>\n",
       "    </tr>\n",
       "    <tr>\n",
       "      <th>35</th>\n",
       "      <td>5</td>\n",
       "      <td>35</td>\n",
       "      <td>0.9</td>\n",
       "      <td>2.265319</td>\n",
       "      <td>0.885573</td>\n",
       "      <td>2.558026</td>\n",
       "    </tr>\n",
       "    <tr>\n",
       "      <th>26</th>\n",
       "      <td>5</td>\n",
       "      <td>30</td>\n",
       "      <td>0.9</td>\n",
       "      <td>2.237894</td>\n",
       "      <td>0.883249</td>\n",
       "      <td>2.533707</td>\n",
       "    </tr>\n",
       "    <tr>\n",
       "      <th>...</th>\n",
       "      <td>...</td>\n",
       "      <td>...</td>\n",
       "      <td>...</td>\n",
       "      <td>...</td>\n",
       "      <td>...</td>\n",
       "      <td>...</td>\n",
       "    </tr>\n",
       "    <tr>\n",
       "      <th>467</th>\n",
       "      <td>15</td>\n",
       "      <td>50</td>\n",
       "      <td>0.9</td>\n",
       "      <td>1.592814</td>\n",
       "      <td>0.897856</td>\n",
       "      <td>1.774019</td>\n",
       "    </tr>\n",
       "    <tr>\n",
       "      <th>485</th>\n",
       "      <td>15</td>\n",
       "      <td>60</td>\n",
       "      <td>0.9</td>\n",
       "      <td>1.594953</td>\n",
       "      <td>0.899089</td>\n",
       "      <td>1.773966</td>\n",
       "    </tr>\n",
       "    <tr>\n",
       "      <th>475</th>\n",
       "      <td>15</td>\n",
       "      <td>55</td>\n",
       "      <td>0.8</td>\n",
       "      <td>1.575550</td>\n",
       "      <td>0.888730</td>\n",
       "      <td>1.772810</td>\n",
       "    </tr>\n",
       "    <tr>\n",
       "      <th>395</th>\n",
       "      <td>13</td>\n",
       "      <td>55</td>\n",
       "      <td>0.9</td>\n",
       "      <td>1.575298</td>\n",
       "      <td>0.898857</td>\n",
       "      <td>1.752556</td>\n",
       "    </tr>\n",
       "    <tr>\n",
       "      <th>476</th>\n",
       "      <td>15</td>\n",
       "      <td>55</td>\n",
       "      <td>0.9</td>\n",
       "      <td>1.558731</td>\n",
       "      <td>0.898438</td>\n",
       "      <td>1.734934</td>\n",
       "    </tr>\n",
       "  </tbody>\n",
       "</table>\n",
       "<p>486 rows × 6 columns</p>\n",
       "</div>"
      ],
      "text/plain": [
       "     short_sma  long_sma  percent_short  annualized_return  \\\n",
       "17           5        25            0.9           2.320048   \n",
       "422         15        25            0.9           2.300259   \n",
       "8            5        20            0.9           2.247043   \n",
       "35           5        35            0.9           2.265319   \n",
       "26           5        30            0.9           2.237894   \n",
       "..         ...       ...            ...                ...   \n",
       "467         15        50            0.9           1.592814   \n",
       "485         15        60            0.9           1.594953   \n",
       "475         15        55            0.8           1.575550   \n",
       "395         13        55            0.9           1.575298   \n",
       "476         15        55            0.9           1.558731   \n",
       "\n",
       "     annualized_volatility    sharpe  \n",
       "17                0.872952  2.657702  \n",
       "422               0.875585  2.627110  \n",
       "8                 0.873057  2.573765  \n",
       "35                0.885573  2.558026  \n",
       "26                0.883249  2.533707  \n",
       "..                     ...       ...  \n",
       "467               0.897856  1.774019  \n",
       "485               0.899089  1.773966  \n",
       "475               0.888730  1.772810  \n",
       "395               0.898857  1.752556  \n",
       "476               0.898438  1.734934  \n",
       "\n",
       "[486 rows x 6 columns]"
      ]
     },
     "execution_count": 6,
     "metadata": {},
     "output_type": "execute_result"
    }
   ],
   "source": [
    "summary.sort_values('sharpe',ascending=False)"
   ]
  },
  {
   "cell_type": "code",
   "execution_count": 7,
   "id": "norman-superintendent",
   "metadata": {
    "scrolled": true
   },
   "outputs": [
    {
     "data": {
      "text/plain": [
       "{'shortSma': 0,\n",
       " 'longSma': 0,\n",
       " 'percentShort': 0,\n",
       " 'resultFrame':            date       btc         eth\n",
       " 0    2019-06-23  4.584603  162.064048\n",
       " 1    2019-06-24  4.584603  162.064048\n",
       " 2    2019-06-25  4.584603  162.064048\n",
       " 3    2019-06-26  4.584603  162.064048\n",
       " 4    2019-06-27  4.584603  162.064048\n",
       " ..          ...       ...         ...\n",
       " 435  2020-08-31  4.584603  162.064048\n",
       " 436  2020-09-01  4.584603  162.064048\n",
       " 437  2020-09-02  4.584603  162.064048\n",
       " 438  2020-09-03  4.584603  162.064048\n",
       " 439  2020-09-04  4.584603  162.064048\n",
       " \n",
       " [440 rows x 3 columns],\n",
       " 'portfolioFrame':            date  portfolio_value  perc_return\n",
       " 1    2019-06-24    101195.714255     0.011957\n",
       " 2    2019-06-25    105772.452699     0.045227\n",
       " 3    2019-06-26    115032.790425     0.087550\n",
       " 4    2019-06-27    100295.313490    -0.128115\n",
       " 5    2019-06-28    107261.986130     0.069462\n",
       " ..          ...              ...          ...\n",
       " 435  2020-08-31    123710.140427     0.004086\n",
       " 436  2020-09-01    131702.746354     0.064608\n",
       " 437  2020-09-02    123439.082324    -0.062745\n",
       " 438  2020-09-03    108302.997977    -0.122620\n",
       " 439  2020-09-04    110328.702922     0.018704\n",
       " \n",
       " [439 rows x 3 columns],\n",
       " 'annualizedReturn': 1.5857667412343828,\n",
       " 'annualizedVolatility': 0.8386328830158948}"
      ]
     },
     "execution_count": 7,
     "metadata": {},
     "output_type": "execute_result"
    }
   ],
   "source": [
    "benchmarkDates=trainingResults[0]['resultFrame'].date.copy()\n",
    "benchmark=training.getBenchmark(benchmarkDates,df)\n",
    "benchmark"
   ]
  },
  {
   "cell_type": "code",
   "execution_count": 8,
   "id": "dynamic-mount",
   "metadata": {},
   "outputs": [
    {
     "data": {
      "image/png": "[encoded data removed]",
      "text/plain": [
       "<Figure size 1080x720 with 1 Axes>"
      ]
     },
     "metadata": {
      "needs_background": "light"
     },
     "output_type": "display_data"
    }
   ],
   "source": [
    "import matplotlib.pyplot as plt\n",
    "\n",
    "plt.figure(figsize=(15,10))\n",
    "\n",
    "plt.scatter(summary.annualized_volatility*100,summary.annualized_return*100,color='blue',label='strategy iteration')\n",
    "plt.scatter([benchmark['annualizedVolatility']*100],[benchmark['annualizedReturn']*100],color='red',label='benchmark')\n",
    "plt.legend()\n",
    "plt.xlabel('Annualized volatility (%)')\n",
    "plt.ylabel('Annualized returns (%)')\n",
    "_=plt.title('Figure 1: Strategy Iterations vs Benchmark')"
   ]
  },
  {
   "cell_type": "code",
   "execution_count": 9,
   "id": "roman-republic",
   "metadata": {},
   "outputs": [
    {
     "data": {
      "text/plain": [
       "1.8908950189642486"
      ]
     },
     "execution_count": 9,
     "metadata": {},
     "output_type": "execute_result"
    }
   ],
   "source": [
    "benchmarkSharpe=benchmark['annualizedReturn']/benchmark['annualizedVolatility']\n",
    "benchmarkSharpe"
   ]
  },
  {
   "cell_type": "code",
   "execution_count": 10,
   "id": "intensive-camcorder",
   "metadata": {},
   "outputs": [
    {
     "data": {
      "text/plain": [
       "2.0224005904959443"
      ]
     },
     "execution_count": 10,
     "metadata": {},
     "output_type": "execute_result"
    }
   ],
   "source": [
    "summary.sharpe.mean()"
   ]
  },
  {
   "cell_type": "code",
   "execution_count": 11,
   "id": "covered-suggestion",
   "metadata": {},
   "outputs": [
    {
     "data": {
      "text/plain": [
       "0.9012345679012346"
      ]
     },
     "execution_count": 11,
     "metadata": {},
     "output_type": "execute_result"
    }
   ],
   "source": [
    "higherSharpeThanBenchmark=len(summary[summary.sharpe>benchmarkSharpe])/len(summary)\n",
    "higherSharpeThanBenchmark"
   ]
  },
  {
   "cell_type": "code",
   "execution_count": 12,
   "id": "animal-essay",
   "metadata": {},
   "outputs": [
    {
     "data": {
      "text/plain": [
       "1.5587312040806791"
      ]
     },
     "execution_count": 12,
     "metadata": {},
     "output_type": "execute_result"
    }
   ],
   "source": [
    "summary.annualized_return.min()"
   ]
  },
  {
   "cell_type": "code",
   "execution_count": 13,
   "id": "freelance-installation",
   "metadata": {},
   "outputs": [
    {
     "data": {
      "text/plain": [
       "2.3200476306914655"
      ]
     },
     "execution_count": 13,
     "metadata": {},
     "output_type": "execute_result"
    }
   ],
   "source": [
    "summary.annualized_return.max()"
   ]
  },
  {
   "cell_type": "code",
   "execution_count": 14,
   "id": "variable-sponsorship",
   "metadata": {},
   "outputs": [
    {
     "data": {
      "text/plain": [
       "1.7535234491983385"
      ]
     },
     "execution_count": 14,
     "metadata": {},
     "output_type": "execute_result"
    }
   ],
   "source": [
    "summary.annualized_return.mean()"
   ]
  },
  {
   "cell_type": "code",
   "execution_count": 15,
   "id": "average-commitment",
   "metadata": {},
   "outputs": [
    {
     "data": {
      "text/plain": [
       "0.9938271604938271"
      ]
     },
     "execution_count": 15,
     "metadata": {},
     "output_type": "execute_result"
    }
   ],
   "source": [
    "higherReturnThanBenchmark=len(summary[summary.annualized_return>benchmark['annualizedReturn']])/len(summary)\n",
    "higherReturnThanBenchmark"
   ]
  },
  {
   "cell_type": "code",
   "execution_count": 16,
   "id": "incident-wings",
   "metadata": {},
   "outputs": [
    {
     "data": {
      "text/plain": [
       "0.8470918397493876"
      ]
     },
     "execution_count": 16,
     "metadata": {},
     "output_type": "execute_result"
    }
   ],
   "source": [
    "summary.annualized_volatility.min()"
   ]
  },
  {
   "cell_type": "code",
   "execution_count": 17,
   "id": "british-panic",
   "metadata": {},
   "outputs": [
    {
     "data": {
      "text/plain": [
       "0.9037938746286073"
      ]
     },
     "execution_count": 17,
     "metadata": {},
     "output_type": "execute_result"
    }
   ],
   "source": [
    "summary.annualized_volatility.max()"
   ]
  },
  {
   "cell_type": "code",
   "execution_count": 18,
   "id": "sacred-oxygen",
   "metadata": {},
   "outputs": [
    {
     "data": {
      "text/plain": [
       "0.8671095617114396"
      ]
     },
     "execution_count": 18,
     "metadata": {},
     "output_type": "execute_result"
    }
   ],
   "source": [
    "summary.annualized_volatility.mean()"
   ]
  }
 ],
 "metadata": {
  "kernelspec": {
   "display_name": "Python 3",
   "language": "python",
   "name": "python3"
  },
  "language_info": {
   "codemirror_mode": {
    "name": "ipython",
    "version": 3
   },
   "file_extension": ".py",
   "mimetype": "text/x-python",
   "name": "python",
   "nbconvert_exporter": "python",
   "pygments_lexer": "ipython3",
   "version": "3.6.4"
  }
 },
 "nbformat": 4,
 "nbformat_minor": 5
}
